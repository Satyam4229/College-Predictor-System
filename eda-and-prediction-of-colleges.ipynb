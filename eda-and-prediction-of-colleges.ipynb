{
 "cells": [
  {
   "cell_type": "markdown",
   "id": "f7b2d12c",
   "metadata": {
    "papermill": {
     "duration": 0.02168,
     "end_time": "2023-02-13T13:12:56.164037",
     "exception": false,
     "start_time": "2023-02-13T13:12:56.142357",
     "status": "completed"
    },
    "tags": []
   },
   "source": [
    "<div style=\"width:100%;text-align: center;\"> <img align=middle src=\"https://www.scrolldroll.com/wp-content/uploads/2022/05/Iconic-Jeetu-Bhaiya-Quotes-Dialogues-04.jpeg\"  alt=\"Motivational Quotes\" style=\"height: 400px; width: 700px; margin-top: 3rem;\"> </div>"
   ]
  },
  {
   "cell_type": "markdown",
   "id": "2a65f873",
   "metadata": {
    "papermill": {
     "duration": 0.019687,
     "end_time": "2023-02-13T13:12:56.205556",
     "exception": false,
     "start_time": "2023-02-13T13:12:56.185869",
     "status": "completed"
    },
    "tags": []
   },
   "source": [
    "# **<span style=\"color:#a300cc;\">📰About the Dataset</span>**\n",
    "\n",
    "**Context :**\n",
    "Joint Entrance Examination – Main (JEE-Main), formerly All India Engineering Entrance Examination (AIEEE), is an Indian standardised computer-based test for admission to various technical undergraduate programs in engineering, architecture, and planning across colleges in India. The exam is conducted by the JEE Apex Board for Admission for B.Tech, B.Arch, etc. programs in the premier technical institutes such as the National Institutes of Technology and Indian Institutes of Information Technology are based on the rank secured in the JEE-Main. It is usually conducted twice every year.\n",
    "\n",
    "**IITs and NITs :**\n",
    "The Indian Institutes of Technology (IITs) are the globally appreciated engineering and technological institutes in India. IITs have maintained quality education and internationally acclaimed research facilities. IIT JEE Exam is the most popular engineering admission entrance test conducted in India.\n",
    "National Institute of Technology (NITs) are premier engineering colleges in India offering admission to degree courses at both undergraduate and postgraduate level.\n",
    "\n",
    "# **<span style=\"color:#a300cc;\">📁About the files</span>**\n",
    "\n",
    "**year** - The year of the conducted JEE exam  \n",
    "\n",
    "**institute_type** - Type of Institute (IIT or NIT)  \n",
    "\n",
    "**round_no** - The counseling round number \n",
    "\n",
    "**quota** - The reservation quota   \n",
    "\n",
    "AI : All-India\n",
    "\n",
    "HS : Home-State\n",
    "\n",
    "OS : Other-State\n",
    "\n",
    "AP : Andhra Pradesh\n",
    "\n",
    "GO : Goa\n",
    "\n",
    "JK : Jammu & Kashmir\n",
    "\n",
    "LA : Ladakh\n",
    "\n",
    "**pool** - The gender quota\n",
    "\n",
    "**institute_short** - THe short name of the Institution   \n",
    "\n",
    "**program_name** - The name of the program/stream  \n",
    "\n",
    "**program_duration** - The duration of the course (in years)   \n",
    "\n",
    "**degree_short** - The name of the degree (Abbreviated)    \n",
    "\n",
    "**category** - The caste category  \n",
    "\n",
    "GEN : General\n",
    "\n",
    "OBC-NCL : Other Backward Classes-Non Creamy Layer\n",
    "\n",
    "SC : Scheduled Castes\n",
    "\n",
    "ST : Scheduled Tribes \n",
    "\n",
    "GEN-PWD : General & Persons with Disabilities\n",
    "\n",
    "OBC-NCL-PWD : Other Backward Classes & Persons with Disabilities\n",
    "\n",
    "SC-PWD : Scheduled Castes & Persons with Disabilities\n",
    "\n",
    "ST-PWD : Scheduled Tribes & Persons with Disabilities\n",
    "\n",
    "GEN-EWS : General & Economically Weaker Section\n",
    "\n",
    "GEN-EWS-PWD : General & Economically Weaker Section & Persons with Disability\n",
    "\n",
    "**opening_rank** - The opening (starting) rank for getting admission in the institution    \n",
    "\n",
    "**closing_rank** - The closing (ending) rank for getting admission in the institution  \n",
    "\n",
    "**is_preparatory** - If admission to a preparatory course is available  -  0 : No, 1 : Yes\n",
    "\n",
    "\n",
    "**Acknowledgement:**\n",
    "*This data is provided by scraping the website : https://cutoffs.iitr.ac.in/*\n",
    "\n",
    "*All credits and rights belong to them.*"
   ]
  },
  {
   "cell_type": "markdown",
   "id": "a374da2f",
   "metadata": {
    "papermill": {
     "duration": 0.02075,
     "end_time": "2023-02-13T13:12:56.246389",
     "exception": false,
     "start_time": "2023-02-13T13:12:56.225639",
     "status": "completed"
    },
    "tags": []
   },
   "source": [
    "***"
   ]
  },
  {
   "cell_type": "markdown",
   "id": "76bc3890",
   "metadata": {
    "papermill": {
     "duration": 0.019392,
     "end_time": "2023-02-13T13:12:56.286694",
     "exception": false,
     "start_time": "2023-02-13T13:12:56.267302",
     "status": "completed"
    },
    "tags": []
   },
   "source": [
    "# <h1 style='background:#000099; border:0; color:white; padding-top: 20px'><center>EDA : IIT-NIT category-wise cutoff data</center></h1> "
   ]
  },
  {
   "cell_type": "markdown",
   "id": "cc2607a4",
   "metadata": {
    "papermill": {
     "duration": 0.019679,
     "end_time": "2023-02-13T13:12:56.326101",
     "exception": false,
     "start_time": "2023-02-13T13:12:56.306422",
     "status": "completed"
    },
    "tags": []
   },
   "source": [
    "## **<span style=\"color: #ff3385;\">📥 Before we get started! Let's get our Imports</span>**"
   ]
  },
  {
   "cell_type": "code",
   "execution_count": 1,
   "id": "fb4b66a5",
   "metadata": {
    "execution": {
     "iopub.execute_input": "2023-02-13T13:12:56.368688Z",
     "iopub.status.busy": "2023-02-13T13:12:56.368066Z",
     "iopub.status.idle": "2023-02-13T13:12:57.505342Z",
     "shell.execute_reply": "2023-02-13T13:12:57.504156Z"
    },
    "papermill": {
     "duration": 1.162295,
     "end_time": "2023-02-13T13:12:57.508622",
     "exception": false,
     "start_time": "2023-02-13T13:12:56.346327",
     "status": "completed"
    },
    "tags": []
   },
   "outputs": [],
   "source": [
    "#imports\n",
    "\n",
    "import pandas as pd\n",
    "import numpy as np\n",
    "import matplotlib.pyplot as plt\n",
    "import seaborn as sns"
   ]
  },
  {
   "cell_type": "code",
   "execution_count": 2,
   "id": "12477427",
   "metadata": {
    "execution": {
     "iopub.execute_input": "2023-02-13T13:12:57.552380Z",
     "iopub.status.busy": "2023-02-13T13:12:57.551760Z",
     "iopub.status.idle": "2023-02-13T13:12:57.556665Z",
     "shell.execute_reply": "2023-02-13T13:12:57.555765Z"
    },
    "papermill": {
     "duration": 0.028881,
     "end_time": "2023-02-13T13:12:57.558757",
     "exception": false,
     "start_time": "2023-02-13T13:12:57.529876",
     "status": "completed"
    },
    "tags": []
   },
   "outputs": [],
   "source": [
    "import warnings\n",
    "warnings.filterwarnings('ignore')"
   ]
  },
  {
   "cell_type": "markdown",
   "id": "a4b82aa9",
   "metadata": {
    "papermill": {
     "duration": 0.019773,
     "end_time": "2023-02-13T13:12:57.598752",
     "exception": false,
     "start_time": "2023-02-13T13:12:57.578979",
     "status": "completed"
    },
    "tags": []
   },
   "source": [
    "## **<span style=\"color:#ff3385;\">📈 Let's get the Data</span>**"
   ]
  },
  {
   "cell_type": "code",
   "execution_count": 3,
   "id": "2ee412c3",
   "metadata": {
    "execution": {
     "iopub.execute_input": "2023-02-13T13:12:57.642144Z",
     "iopub.status.busy": "2023-02-13T13:12:57.641046Z",
     "iopub.status.idle": "2023-02-13T13:12:57.655465Z",
     "shell.execute_reply": "2023-02-13T13:12:57.654271Z"
    },
    "papermill": {
     "duration": 0.03961,
     "end_time": "2023-02-13T13:12:57.658452",
     "exception": false,
     "start_time": "2023-02-13T13:12:57.618842",
     "status": "completed"
    },
    "tags": []
   },
   "outputs": [
    {
     "name": "stdout",
     "output_type": "stream",
     "text": [
      "/kaggle/input/iit-and-nit-colleges-admission-criteria/iit-and-nit-colleges-admission-criteria-version-2.csv\n",
      "/kaggle/input/iit-and-nit-colleges-admission-criteria/data.csv\n"
     ]
    }
   ],
   "source": [
    "# Input data files are available in the read-only \"../input/\" directory\n",
    "# For example, running this (by clicking run or pressing Shift+Enter) will list all files under the input directory\n",
    "\n",
    "import os\n",
    "for dirname, _, filenames in os.walk('/kaggle/input'):\n",
    "    for filename in filenames:\n",
    "        print(os.path.join(dirname, filename))\n",
    "\n",
    "# You can write up to 20GB to the current directory (/kaggle/working/) that gets preserved as output when you create a version using \"Save & Run All\" \n",
    "# You can also write temporary files to /kaggle/temp/, but they won't be saved outside of the current session"
   ]
  },
  {
   "cell_type": "code",
   "execution_count": 4,
   "id": "15d2b049",
   "metadata": {
    "execution": {
     "iopub.execute_input": "2023-02-13T13:12:57.703137Z",
     "iopub.status.busy": "2023-02-13T13:12:57.701967Z",
     "iopub.status.idle": "2023-02-13T13:12:58.005183Z",
     "shell.execute_reply": "2023-02-13T13:12:58.003962Z"
    },
    "papermill": {
     "duration": 0.327905,
     "end_time": "2023-02-13T13:12:58.007815",
     "exception": false,
     "start_time": "2023-02-13T13:12:57.679910",
     "status": "completed"
    },
    "tags": []
   },
   "outputs": [
    {
     "data": {
      "text/html": [
       "<div>\n",
       "<style scoped>\n",
       "    .dataframe tbody tr th:only-of-type {\n",
       "        vertical-align: middle;\n",
       "    }\n",
       "\n",
       "    .dataframe tbody tr th {\n",
       "        vertical-align: top;\n",
       "    }\n",
       "\n",
       "    .dataframe thead th {\n",
       "        text-align: right;\n",
       "    }\n",
       "</style>\n",
       "<table border=\"1\" class=\"dataframe\">\n",
       "  <thead>\n",
       "    <tr style=\"text-align: right;\">\n",
       "      <th></th>\n",
       "      <th>year</th>\n",
       "      <th>institute_type</th>\n",
       "      <th>round_no</th>\n",
       "      <th>quota</th>\n",
       "      <th>pool</th>\n",
       "      <th>institute_short</th>\n",
       "      <th>program_name</th>\n",
       "      <th>program_duration</th>\n",
       "      <th>degree_short</th>\n",
       "      <th>category</th>\n",
       "      <th>opening_rank</th>\n",
       "      <th>closing_rank</th>\n",
       "      <th>is_preparatory</th>\n",
       "      <th>Unnamed: 13</th>\n",
       "    </tr>\n",
       "  </thead>\n",
       "  <tbody>\n",
       "    <tr>\n",
       "      <th>0</th>\n",
       "      <td>2016</td>\n",
       "      <td>IIT</td>\n",
       "      <td>6</td>\n",
       "      <td>AI</td>\n",
       "      <td>Gender-Neutral</td>\n",
       "      <td>IIT-Bombay</td>\n",
       "      <td>Aerospace Engineering</td>\n",
       "      <td>4 Years</td>\n",
       "      <td>B.Tech</td>\n",
       "      <td>GEN</td>\n",
       "      <td>838</td>\n",
       "      <td>1841</td>\n",
       "      <td>0</td>\n",
       "      <td>NaN</td>\n",
       "    </tr>\n",
       "    <tr>\n",
       "      <th>1</th>\n",
       "      <td>2016</td>\n",
       "      <td>IIT</td>\n",
       "      <td>6</td>\n",
       "      <td>AI</td>\n",
       "      <td>Gender-Neutral</td>\n",
       "      <td>IIT-Bombay</td>\n",
       "      <td>Aerospace Engineering</td>\n",
       "      <td>4 Years</td>\n",
       "      <td>B.Tech</td>\n",
       "      <td>OBC-NCL</td>\n",
       "      <td>408</td>\n",
       "      <td>1098</td>\n",
       "      <td>0</td>\n",
       "      <td>NaN</td>\n",
       "    </tr>\n",
       "    <tr>\n",
       "      <th>2</th>\n",
       "      <td>2016</td>\n",
       "      <td>IIT</td>\n",
       "      <td>6</td>\n",
       "      <td>AI</td>\n",
       "      <td>Gender-Neutral</td>\n",
       "      <td>IIT-Bombay</td>\n",
       "      <td>Aerospace Engineering</td>\n",
       "      <td>4 Years</td>\n",
       "      <td>B.Tech</td>\n",
       "      <td>SC</td>\n",
       "      <td>297</td>\n",
       "      <td>468</td>\n",
       "      <td>0</td>\n",
       "      <td>NaN</td>\n",
       "    </tr>\n",
       "    <tr>\n",
       "      <th>3</th>\n",
       "      <td>2016</td>\n",
       "      <td>IIT</td>\n",
       "      <td>6</td>\n",
       "      <td>AI</td>\n",
       "      <td>Gender-Neutral</td>\n",
       "      <td>IIT-Bombay</td>\n",
       "      <td>Aerospace Engineering</td>\n",
       "      <td>4 Years</td>\n",
       "      <td>B.Tech</td>\n",
       "      <td>ST</td>\n",
       "      <td>79</td>\n",
       "      <td>145</td>\n",
       "      <td>0</td>\n",
       "      <td>NaN</td>\n",
       "    </tr>\n",
       "    <tr>\n",
       "      <th>4</th>\n",
       "      <td>2016</td>\n",
       "      <td>IIT</td>\n",
       "      <td>6</td>\n",
       "      <td>AI</td>\n",
       "      <td>Gender-Neutral</td>\n",
       "      <td>IIT-Bombay</td>\n",
       "      <td>Aerospace Engineering</td>\n",
       "      <td>4 Years</td>\n",
       "      <td>B.Tech</td>\n",
       "      <td>GEN-PWD</td>\n",
       "      <td>94</td>\n",
       "      <td>94</td>\n",
       "      <td>0</td>\n",
       "      <td>NaN</td>\n",
       "    </tr>\n",
       "  </tbody>\n",
       "</table>\n",
       "</div>"
      ],
      "text/plain": [
       "   year institute_type  round_no quota            pool institute_short  \\\n",
       "0  2016            IIT         6    AI  Gender-Neutral      IIT-Bombay   \n",
       "1  2016            IIT         6    AI  Gender-Neutral      IIT-Bombay   \n",
       "2  2016            IIT         6    AI  Gender-Neutral      IIT-Bombay   \n",
       "3  2016            IIT         6    AI  Gender-Neutral      IIT-Bombay   \n",
       "4  2016            IIT         6    AI  Gender-Neutral      IIT-Bombay   \n",
       "\n",
       "            program_name program_duration degree_short category  opening_rank  \\\n",
       "0  Aerospace Engineering          4 Years       B.Tech      GEN           838   \n",
       "1  Aerospace Engineering          4 Years       B.Tech  OBC-NCL           408   \n",
       "2  Aerospace Engineering          4 Years       B.Tech       SC           297   \n",
       "3  Aerospace Engineering          4 Years       B.Tech       ST            79   \n",
       "4  Aerospace Engineering          4 Years       B.Tech  GEN-PWD            94   \n",
       "\n",
       "   closing_rank  is_preparatory  Unnamed: 13  \n",
       "0          1841               0          NaN  \n",
       "1          1098               0          NaN  \n",
       "2           468               0          NaN  \n",
       "3           145               0          NaN  \n",
       "4            94               0          NaN  "
      ]
     },
     "execution_count": 4,
     "metadata": {},
     "output_type": "execute_result"
    }
   ],
   "source": [
    "# Read data in a dataframe\n",
    "\n",
    "# A DataFrame is a data structure that organizes data \n",
    "#into a 2-dimensional table of rows and columns, much like a spreadsheet. \n",
    "\n",
    "df = pd.read_csv(\"/kaggle/input/iit-and-nit-colleges-admission-criteria/data.csv\")\n",
    "df.head()"
   ]
  },
  {
   "cell_type": "code",
   "execution_count": 5,
   "id": "09a40f3a",
   "metadata": {
    "execution": {
     "iopub.execute_input": "2023-02-13T13:12:58.051744Z",
     "iopub.status.busy": "2023-02-13T13:12:58.051346Z",
     "iopub.status.idle": "2023-02-13T13:12:58.061771Z",
     "shell.execute_reply": "2023-02-13T13:12:58.060643Z"
    },
    "papermill": {
     "duration": 0.035474,
     "end_time": "2023-02-13T13:12:58.064227",
     "exception": false,
     "start_time": "2023-02-13T13:12:58.028753",
     "status": "completed"
    },
    "tags": []
   },
   "outputs": [],
   "source": [
    "del df[\"Unnamed: 13\"]"
   ]
  },
  {
   "cell_type": "code",
   "execution_count": 6,
   "id": "de8d9fa7",
   "metadata": {
    "execution": {
     "iopub.execute_input": "2023-02-13T13:12:58.107707Z",
     "iopub.status.busy": "2023-02-13T13:12:58.106908Z",
     "iopub.status.idle": "2023-02-13T13:12:58.124172Z",
     "shell.execute_reply": "2023-02-13T13:12:58.122979Z"
    },
    "papermill": {
     "duration": 0.041774,
     "end_time": "2023-02-13T13:12:58.126617",
     "exception": false,
     "start_time": "2023-02-13T13:12:58.084843",
     "status": "completed"
    },
    "tags": []
   },
   "outputs": [
    {
     "data": {
      "text/html": [
       "<div>\n",
       "<style scoped>\n",
       "    .dataframe tbody tr th:only-of-type {\n",
       "        vertical-align: middle;\n",
       "    }\n",
       "\n",
       "    .dataframe tbody tr th {\n",
       "        vertical-align: top;\n",
       "    }\n",
       "\n",
       "    .dataframe thead th {\n",
       "        text-align: right;\n",
       "    }\n",
       "</style>\n",
       "<table border=\"1\" class=\"dataframe\">\n",
       "  <thead>\n",
       "    <tr style=\"text-align: right;\">\n",
       "      <th></th>\n",
       "      <th>year</th>\n",
       "      <th>institute_type</th>\n",
       "      <th>round_no</th>\n",
       "      <th>quota</th>\n",
       "      <th>pool</th>\n",
       "      <th>institute_short</th>\n",
       "      <th>program_name</th>\n",
       "      <th>program_duration</th>\n",
       "      <th>degree_short</th>\n",
       "      <th>category</th>\n",
       "      <th>opening_rank</th>\n",
       "      <th>closing_rank</th>\n",
       "      <th>is_preparatory</th>\n",
       "    </tr>\n",
       "  </thead>\n",
       "  <tbody>\n",
       "    <tr>\n",
       "      <th>0</th>\n",
       "      <td>2016</td>\n",
       "      <td>IIT</td>\n",
       "      <td>6</td>\n",
       "      <td>AI</td>\n",
       "      <td>Gender-Neutral</td>\n",
       "      <td>IIT-Bombay</td>\n",
       "      <td>Aerospace Engineering</td>\n",
       "      <td>4 Years</td>\n",
       "      <td>B.Tech</td>\n",
       "      <td>GEN</td>\n",
       "      <td>838</td>\n",
       "      <td>1841</td>\n",
       "      <td>0</td>\n",
       "    </tr>\n",
       "    <tr>\n",
       "      <th>1</th>\n",
       "      <td>2016</td>\n",
       "      <td>IIT</td>\n",
       "      <td>6</td>\n",
       "      <td>AI</td>\n",
       "      <td>Gender-Neutral</td>\n",
       "      <td>IIT-Bombay</td>\n",
       "      <td>Aerospace Engineering</td>\n",
       "      <td>4 Years</td>\n",
       "      <td>B.Tech</td>\n",
       "      <td>OBC-NCL</td>\n",
       "      <td>408</td>\n",
       "      <td>1098</td>\n",
       "      <td>0</td>\n",
       "    </tr>\n",
       "    <tr>\n",
       "      <th>2</th>\n",
       "      <td>2016</td>\n",
       "      <td>IIT</td>\n",
       "      <td>6</td>\n",
       "      <td>AI</td>\n",
       "      <td>Gender-Neutral</td>\n",
       "      <td>IIT-Bombay</td>\n",
       "      <td>Aerospace Engineering</td>\n",
       "      <td>4 Years</td>\n",
       "      <td>B.Tech</td>\n",
       "      <td>SC</td>\n",
       "      <td>297</td>\n",
       "      <td>468</td>\n",
       "      <td>0</td>\n",
       "    </tr>\n",
       "    <tr>\n",
       "      <th>3</th>\n",
       "      <td>2016</td>\n",
       "      <td>IIT</td>\n",
       "      <td>6</td>\n",
       "      <td>AI</td>\n",
       "      <td>Gender-Neutral</td>\n",
       "      <td>IIT-Bombay</td>\n",
       "      <td>Aerospace Engineering</td>\n",
       "      <td>4 Years</td>\n",
       "      <td>B.Tech</td>\n",
       "      <td>ST</td>\n",
       "      <td>79</td>\n",
       "      <td>145</td>\n",
       "      <td>0</td>\n",
       "    </tr>\n",
       "    <tr>\n",
       "      <th>4</th>\n",
       "      <td>2016</td>\n",
       "      <td>IIT</td>\n",
       "      <td>6</td>\n",
       "      <td>AI</td>\n",
       "      <td>Gender-Neutral</td>\n",
       "      <td>IIT-Bombay</td>\n",
       "      <td>Aerospace Engineering</td>\n",
       "      <td>4 Years</td>\n",
       "      <td>B.Tech</td>\n",
       "      <td>GEN-PWD</td>\n",
       "      <td>94</td>\n",
       "      <td>94</td>\n",
       "      <td>0</td>\n",
       "    </tr>\n",
       "  </tbody>\n",
       "</table>\n",
       "</div>"
      ],
      "text/plain": [
       "   year institute_type  round_no quota            pool institute_short  \\\n",
       "0  2016            IIT         6    AI  Gender-Neutral      IIT-Bombay   \n",
       "1  2016            IIT         6    AI  Gender-Neutral      IIT-Bombay   \n",
       "2  2016            IIT         6    AI  Gender-Neutral      IIT-Bombay   \n",
       "3  2016            IIT         6    AI  Gender-Neutral      IIT-Bombay   \n",
       "4  2016            IIT         6    AI  Gender-Neutral      IIT-Bombay   \n",
       "\n",
       "            program_name program_duration degree_short category  opening_rank  \\\n",
       "0  Aerospace Engineering          4 Years       B.Tech      GEN           838   \n",
       "1  Aerospace Engineering          4 Years       B.Tech  OBC-NCL           408   \n",
       "2  Aerospace Engineering          4 Years       B.Tech       SC           297   \n",
       "3  Aerospace Engineering          4 Years       B.Tech       ST            79   \n",
       "4  Aerospace Engineering          4 Years       B.Tech  GEN-PWD            94   \n",
       "\n",
       "   closing_rank  is_preparatory  \n",
       "0          1841               0  \n",
       "1          1098               0  \n",
       "2           468               0  \n",
       "3           145               0  \n",
       "4            94               0  "
      ]
     },
     "execution_count": 6,
     "metadata": {},
     "output_type": "execute_result"
    }
   ],
   "source": [
    "df.head()"
   ]
  },
  {
   "cell_type": "markdown",
   "id": "9883dc58",
   "metadata": {
    "papermill": {
     "duration": 0.021592,
     "end_time": "2023-02-13T13:12:58.169232",
     "exception": false,
     "start_time": "2023-02-13T13:12:58.147640",
     "status": "completed"
    },
    "tags": []
   },
   "source": [
    "## **<span style=\"color:#ff3385;\">👀 Exploring the Data</span>**"
   ]
  },
  {
   "cell_type": "code",
   "execution_count": 7,
   "id": "cb97004d",
   "metadata": {
    "execution": {
     "iopub.execute_input": "2023-02-13T13:12:58.212228Z",
     "iopub.status.busy": "2023-02-13T13:12:58.211847Z",
     "iopub.status.idle": "2023-02-13T13:12:58.258451Z",
     "shell.execute_reply": "2023-02-13T13:12:58.256942Z"
    },
    "papermill": {
     "duration": 0.071878,
     "end_time": "2023-02-13T13:12:58.261742",
     "exception": false,
     "start_time": "2023-02-13T13:12:58.189864",
     "status": "completed"
    },
    "tags": []
   },
   "outputs": [
    {
     "name": "stdout",
     "output_type": "stream",
     "text": [
      "<class 'pandas.core.frame.DataFrame'>\n",
      "RangeIndex: 64958 entries, 0 to 64957\n",
      "Data columns (total 13 columns):\n",
      " #   Column            Non-Null Count  Dtype \n",
      "---  ------            --------------  ----- \n",
      " 0   year              64958 non-null  int64 \n",
      " 1   institute_type    64958 non-null  object\n",
      " 2   round_no          64958 non-null  int64 \n",
      " 3   quota             64958 non-null  object\n",
      " 4   pool              64958 non-null  object\n",
      " 5   institute_short   64958 non-null  object\n",
      " 6   program_name      64958 non-null  object\n",
      " 7   program_duration  64958 non-null  object\n",
      " 8   degree_short      64958 non-null  object\n",
      " 9   category          64958 non-null  object\n",
      " 10  opening_rank      64958 non-null  int64 \n",
      " 11  closing_rank      64958 non-null  int64 \n",
      " 12  is_preparatory    64958 non-null  int64 \n",
      "dtypes: int64(5), object(8)\n",
      "memory usage: 6.4+ MB\n"
     ]
    }
   ],
   "source": [
    "df.info()"
   ]
  },
  {
   "cell_type": "code",
   "execution_count": 8,
   "id": "d78ece31",
   "metadata": {
    "execution": {
     "iopub.execute_input": "2023-02-13T13:12:58.306218Z",
     "iopub.status.busy": "2023-02-13T13:12:58.305628Z",
     "iopub.status.idle": "2023-02-13T13:12:58.361400Z",
     "shell.execute_reply": "2023-02-13T13:12:58.360273Z"
    },
    "papermill": {
     "duration": 0.08046,
     "end_time": "2023-02-13T13:12:58.363699",
     "exception": false,
     "start_time": "2023-02-13T13:12:58.283239",
     "status": "completed"
    },
    "tags": []
   },
   "outputs": [
    {
     "data": {
      "text/html": [
       "<div>\n",
       "<style scoped>\n",
       "    .dataframe tbody tr th:only-of-type {\n",
       "        vertical-align: middle;\n",
       "    }\n",
       "\n",
       "    .dataframe tbody tr th {\n",
       "        vertical-align: top;\n",
       "    }\n",
       "\n",
       "    .dataframe thead th {\n",
       "        text-align: right;\n",
       "    }\n",
       "</style>\n",
       "<table border=\"1\" class=\"dataframe\">\n",
       "  <thead>\n",
       "    <tr style=\"text-align: right;\">\n",
       "      <th></th>\n",
       "      <th>year</th>\n",
       "      <th>round_no</th>\n",
       "      <th>opening_rank</th>\n",
       "      <th>closing_rank</th>\n",
       "      <th>is_preparatory</th>\n",
       "    </tr>\n",
       "  </thead>\n",
       "  <tbody>\n",
       "    <tr>\n",
       "      <th>count</th>\n",
       "      <td>64958.000000</td>\n",
       "      <td>64958.000000</td>\n",
       "      <td>6.495800e+04</td>\n",
       "      <td>6.495800e+04</td>\n",
       "      <td>64958.000000</td>\n",
       "    </tr>\n",
       "    <tr>\n",
       "      <th>mean</th>\n",
       "      <td>2020.421580</td>\n",
       "      <td>2.609348</td>\n",
       "      <td>8.259642e+03</td>\n",
       "      <td>1.070497e+04</td>\n",
       "      <td>0.047631</td>\n",
       "    </tr>\n",
       "    <tr>\n",
       "      <th>std</th>\n",
       "      <td>1.149762</td>\n",
       "      <td>2.422558</td>\n",
       "      <td>2.679448e+04</td>\n",
       "      <td>3.788101e+04</td>\n",
       "      <td>0.212985</td>\n",
       "    </tr>\n",
       "    <tr>\n",
       "      <th>min</th>\n",
       "      <td>2016.000000</td>\n",
       "      <td>1.000000</td>\n",
       "      <td>0.000000e+00</td>\n",
       "      <td>0.000000e+00</td>\n",
       "      <td>0.000000</td>\n",
       "    </tr>\n",
       "    <tr>\n",
       "      <th>25%</th>\n",
       "      <td>2020.000000</td>\n",
       "      <td>1.000000</td>\n",
       "      <td>6.710000e+02</td>\n",
       "      <td>8.320000e+02</td>\n",
       "      <td>0.000000</td>\n",
       "    </tr>\n",
       "    <tr>\n",
       "      <th>50%</th>\n",
       "      <td>2021.000000</td>\n",
       "      <td>1.000000</td>\n",
       "      <td>2.309000e+03</td>\n",
       "      <td>2.764500e+03</td>\n",
       "      <td>0.000000</td>\n",
       "    </tr>\n",
       "    <tr>\n",
       "      <th>75%</th>\n",
       "      <td>2021.000000</td>\n",
       "      <td>6.000000</td>\n",
       "      <td>6.932000e+03</td>\n",
       "      <td>8.190000e+03</td>\n",
       "      <td>0.000000</td>\n",
       "    </tr>\n",
       "    <tr>\n",
       "      <th>max</th>\n",
       "      <td>2021.000000</td>\n",
       "      <td>7.000000</td>\n",
       "      <td>1.082601e+06</td>\n",
       "      <td>1.144790e+06</td>\n",
       "      <td>1.000000</td>\n",
       "    </tr>\n",
       "  </tbody>\n",
       "</table>\n",
       "</div>"
      ],
      "text/plain": [
       "               year      round_no  opening_rank  closing_rank  is_preparatory\n",
       "count  64958.000000  64958.000000  6.495800e+04  6.495800e+04    64958.000000\n",
       "mean    2020.421580      2.609348  8.259642e+03  1.070497e+04        0.047631\n",
       "std        1.149762      2.422558  2.679448e+04  3.788101e+04        0.212985\n",
       "min     2016.000000      1.000000  0.000000e+00  0.000000e+00        0.000000\n",
       "25%     2020.000000      1.000000  6.710000e+02  8.320000e+02        0.000000\n",
       "50%     2021.000000      1.000000  2.309000e+03  2.764500e+03        0.000000\n",
       "75%     2021.000000      6.000000  6.932000e+03  8.190000e+03        0.000000\n",
       "max     2021.000000      7.000000  1.082601e+06  1.144790e+06        1.000000"
      ]
     },
     "execution_count": 8,
     "metadata": {},
     "output_type": "execute_result"
    }
   ],
   "source": [
    "df.describe()"
   ]
  },
  {
   "cell_type": "code",
   "execution_count": 9,
   "id": "d3124be1",
   "metadata": {
    "execution": {
     "iopub.execute_input": "2023-02-13T13:12:58.407529Z",
     "iopub.status.busy": "2023-02-13T13:12:58.407100Z",
     "iopub.status.idle": "2023-02-13T13:12:58.413747Z",
     "shell.execute_reply": "2023-02-13T13:12:58.412697Z"
    },
    "papermill": {
     "duration": 0.030907,
     "end_time": "2023-02-13T13:12:58.415990",
     "exception": false,
     "start_time": "2023-02-13T13:12:58.385083",
     "status": "completed"
    },
    "tags": []
   },
   "outputs": [
    {
     "data": {
      "text/plain": [
       "(64958, 13)"
      ]
     },
     "execution_count": 9,
     "metadata": {},
     "output_type": "execute_result"
    }
   ],
   "source": [
    "# Shape of the Dataset\n",
    "\n",
    "df.shape"
   ]
  },
  {
   "cell_type": "code",
   "execution_count": 10,
   "id": "ffb69fe9",
   "metadata": {
    "execution": {
     "iopub.execute_input": "2023-02-13T13:12:58.465768Z",
     "iopub.status.busy": "2023-02-13T13:12:58.464951Z",
     "iopub.status.idle": "2023-02-13T13:12:58.480273Z",
     "shell.execute_reply": "2023-02-13T13:12:58.479045Z"
    },
    "papermill": {
     "duration": 0.045964,
     "end_time": "2023-02-13T13:12:58.482859",
     "exception": false,
     "start_time": "2023-02-13T13:12:58.436895",
     "status": "completed"
    },
    "tags": []
   },
   "outputs": [
    {
     "data": {
      "text/html": [
       "<div>\n",
       "<style scoped>\n",
       "    .dataframe tbody tr th:only-of-type {\n",
       "        vertical-align: middle;\n",
       "    }\n",
       "\n",
       "    .dataframe tbody tr th {\n",
       "        vertical-align: top;\n",
       "    }\n",
       "\n",
       "    .dataframe thead th {\n",
       "        text-align: right;\n",
       "    }\n",
       "</style>\n",
       "<table border=\"1\" class=\"dataframe\">\n",
       "  <thead>\n",
       "    <tr style=\"text-align: right;\">\n",
       "      <th></th>\n",
       "      <th>0</th>\n",
       "    </tr>\n",
       "  </thead>\n",
       "  <tbody>\n",
       "    <tr>\n",
       "      <th>0</th>\n",
       "      <td>year</td>\n",
       "    </tr>\n",
       "    <tr>\n",
       "      <th>1</th>\n",
       "      <td>institute_type</td>\n",
       "    </tr>\n",
       "    <tr>\n",
       "      <th>2</th>\n",
       "      <td>round_no</td>\n",
       "    </tr>\n",
       "    <tr>\n",
       "      <th>3</th>\n",
       "      <td>quota</td>\n",
       "    </tr>\n",
       "    <tr>\n",
       "      <th>4</th>\n",
       "      <td>pool</td>\n",
       "    </tr>\n",
       "    <tr>\n",
       "      <th>5</th>\n",
       "      <td>institute_short</td>\n",
       "    </tr>\n",
       "    <tr>\n",
       "      <th>6</th>\n",
       "      <td>program_name</td>\n",
       "    </tr>\n",
       "    <tr>\n",
       "      <th>7</th>\n",
       "      <td>program_duration</td>\n",
       "    </tr>\n",
       "    <tr>\n",
       "      <th>8</th>\n",
       "      <td>degree_short</td>\n",
       "    </tr>\n",
       "    <tr>\n",
       "      <th>9</th>\n",
       "      <td>category</td>\n",
       "    </tr>\n",
       "    <tr>\n",
       "      <th>10</th>\n",
       "      <td>opening_rank</td>\n",
       "    </tr>\n",
       "    <tr>\n",
       "      <th>11</th>\n",
       "      <td>closing_rank</td>\n",
       "    </tr>\n",
       "    <tr>\n",
       "      <th>12</th>\n",
       "      <td>is_preparatory</td>\n",
       "    </tr>\n",
       "  </tbody>\n",
       "</table>\n",
       "</div>"
      ],
      "text/plain": [
       "                   0\n",
       "0               year\n",
       "1     institute_type\n",
       "2           round_no\n",
       "3              quota\n",
       "4               pool\n",
       "5    institute_short\n",
       "6       program_name\n",
       "7   program_duration\n",
       "8       degree_short\n",
       "9           category\n",
       "10      opening_rank\n",
       "11      closing_rank\n",
       "12    is_preparatory"
      ]
     },
     "execution_count": 10,
     "metadata": {},
     "output_type": "execute_result"
    }
   ],
   "source": [
    "# Columns of the Dataset\n",
    "\n",
    "Columns = pd.DataFrame(df.columns)\n",
    "Columns"
   ]
  },
  {
   "cell_type": "code",
   "execution_count": 11,
   "id": "9ec463f8",
   "metadata": {
    "execution": {
     "iopub.execute_input": "2023-02-13T13:12:58.538511Z",
     "iopub.status.busy": "2023-02-13T13:12:58.538077Z",
     "iopub.status.idle": "2023-02-13T13:12:58.552411Z",
     "shell.execute_reply": "2023-02-13T13:12:58.551421Z"
    },
    "papermill": {
     "duration": 0.042774,
     "end_time": "2023-02-13T13:12:58.554695",
     "exception": false,
     "start_time": "2023-02-13T13:12:58.511921",
     "status": "completed"
    },
    "tags": []
   },
   "outputs": [
    {
     "data": {
      "text/html": [
       "<div>\n",
       "<style scoped>\n",
       "    .dataframe tbody tr th:only-of-type {\n",
       "        vertical-align: middle;\n",
       "    }\n",
       "\n",
       "    .dataframe tbody tr th {\n",
       "        vertical-align: top;\n",
       "    }\n",
       "\n",
       "    .dataframe thead th {\n",
       "        text-align: right;\n",
       "    }\n",
       "</style>\n",
       "<table border=\"1\" class=\"dataframe\">\n",
       "  <thead>\n",
       "    <tr style=\"text-align: right;\">\n",
       "      <th></th>\n",
       "      <th>0</th>\n",
       "    </tr>\n",
       "  </thead>\n",
       "  <tbody>\n",
       "    <tr>\n",
       "      <th>0</th>\n",
       "      <td>AI</td>\n",
       "    </tr>\n",
       "    <tr>\n",
       "      <th>1</th>\n",
       "      <td>HS</td>\n",
       "    </tr>\n",
       "    <tr>\n",
       "      <th>2</th>\n",
       "      <td>OS</td>\n",
       "    </tr>\n",
       "    <tr>\n",
       "      <th>3</th>\n",
       "      <td>AP</td>\n",
       "    </tr>\n",
       "    <tr>\n",
       "      <th>4</th>\n",
       "      <td>GO</td>\n",
       "    </tr>\n",
       "    <tr>\n",
       "      <th>5</th>\n",
       "      <td>JK</td>\n",
       "    </tr>\n",
       "    <tr>\n",
       "      <th>6</th>\n",
       "      <td>LA</td>\n",
       "    </tr>\n",
       "  </tbody>\n",
       "</table>\n",
       "</div>"
      ],
      "text/plain": [
       "    0\n",
       "0  AI\n",
       "1  HS\n",
       "2  OS\n",
       "3  AP\n",
       "4  GO\n",
       "5  JK\n",
       "6  LA"
      ]
     },
     "execution_count": 11,
     "metadata": {},
     "output_type": "execute_result"
    }
   ],
   "source": [
    "# Unique values in quota\n",
    "\n",
    "Quota = pd.DataFrame(df[\"quota\"].unique())\n",
    "Quota"
   ]
  },
  {
   "cell_type": "code",
   "execution_count": 12,
   "id": "171c1039",
   "metadata": {
    "execution": {
     "iopub.execute_input": "2023-02-13T13:12:58.599668Z",
     "iopub.status.busy": "2023-02-13T13:12:58.598895Z",
     "iopub.status.idle": "2023-02-13T13:12:58.613575Z",
     "shell.execute_reply": "2023-02-13T13:12:58.612506Z"
    },
    "papermill": {
     "duration": 0.039825,
     "end_time": "2023-02-13T13:12:58.615894",
     "exception": false,
     "start_time": "2023-02-13T13:12:58.576069",
     "status": "completed"
    },
    "tags": []
   },
   "outputs": [
    {
     "data": {
      "text/html": [
       "<div>\n",
       "<style scoped>\n",
       "    .dataframe tbody tr th:only-of-type {\n",
       "        vertical-align: middle;\n",
       "    }\n",
       "\n",
       "    .dataframe tbody tr th {\n",
       "        vertical-align: top;\n",
       "    }\n",
       "\n",
       "    .dataframe thead th {\n",
       "        text-align: right;\n",
       "    }\n",
       "</style>\n",
       "<table border=\"1\" class=\"dataframe\">\n",
       "  <thead>\n",
       "    <tr style=\"text-align: right;\">\n",
       "      <th></th>\n",
       "      <th>0</th>\n",
       "    </tr>\n",
       "  </thead>\n",
       "  <tbody>\n",
       "    <tr>\n",
       "      <th>0</th>\n",
       "      <td>Gender-Neutral</td>\n",
       "    </tr>\n",
       "    <tr>\n",
       "      <th>1</th>\n",
       "      <td>Female-Only</td>\n",
       "    </tr>\n",
       "  </tbody>\n",
       "</table>\n",
       "</div>"
      ],
      "text/plain": [
       "                0\n",
       "0  Gender-Neutral\n",
       "1     Female-Only"
      ]
     },
     "execution_count": 12,
     "metadata": {},
     "output_type": "execute_result"
    }
   ],
   "source": [
    "# Unique values in pool\n",
    "\n",
    "Pool = pd.DataFrame(df[\"pool\"].unique())\n",
    "Pool"
   ]
  },
  {
   "cell_type": "code",
   "execution_count": 13,
   "id": "a863d9d7",
   "metadata": {
    "execution": {
     "iopub.execute_input": "2023-02-13T13:12:58.662082Z",
     "iopub.status.busy": "2023-02-13T13:12:58.661062Z",
     "iopub.status.idle": "2023-02-13T13:12:58.677732Z",
     "shell.execute_reply": "2023-02-13T13:12:58.676980Z"
    },
    "papermill": {
     "duration": 0.042273,
     "end_time": "2023-02-13T13:12:58.679774",
     "exception": false,
     "start_time": "2023-02-13T13:12:58.637501",
     "status": "completed"
    },
    "tags": []
   },
   "outputs": [
    {
     "data": {
      "text/html": [
       "<div>\n",
       "<style scoped>\n",
       "    .dataframe tbody tr th:only-of-type {\n",
       "        vertical-align: middle;\n",
       "    }\n",
       "\n",
       "    .dataframe tbody tr th {\n",
       "        vertical-align: top;\n",
       "    }\n",
       "\n",
       "    .dataframe thead th {\n",
       "        text-align: right;\n",
       "    }\n",
       "</style>\n",
       "<table border=\"1\" class=\"dataframe\">\n",
       "  <thead>\n",
       "    <tr style=\"text-align: right;\">\n",
       "      <th></th>\n",
       "      <th>Institute</th>\n",
       "    </tr>\n",
       "  </thead>\n",
       "  <tbody>\n",
       "    <tr>\n",
       "      <th>0</th>\n",
       "      <td>IIT-Bombay</td>\n",
       "    </tr>\n",
       "    <tr>\n",
       "      <th>1</th>\n",
       "      <td>IIT-Delhi</td>\n",
       "    </tr>\n",
       "    <tr>\n",
       "      <th>2</th>\n",
       "      <td>IIT-Kharagpur</td>\n",
       "    </tr>\n",
       "    <tr>\n",
       "      <th>3</th>\n",
       "      <td>IIT-Kanpur</td>\n",
       "    </tr>\n",
       "    <tr>\n",
       "      <th>4</th>\n",
       "      <td>IIT-Madras</td>\n",
       "    </tr>\n",
       "    <tr>\n",
       "      <th>5</th>\n",
       "      <td>IIT-Roorkee</td>\n",
       "    </tr>\n",
       "    <tr>\n",
       "      <th>6</th>\n",
       "      <td>IIT-Guwahati</td>\n",
       "    </tr>\n",
       "    <tr>\n",
       "      <th>7</th>\n",
       "      <td>IIT-Indore</td>\n",
       "    </tr>\n",
       "    <tr>\n",
       "      <th>8</th>\n",
       "      <td>IIT-Hyderabad</td>\n",
       "    </tr>\n",
       "    <tr>\n",
       "      <th>9</th>\n",
       "      <td>IIT-(BHU) Varanasi</td>\n",
       "    </tr>\n",
       "    <tr>\n",
       "      <th>10</th>\n",
       "      <td>IIT-Patna</td>\n",
       "    </tr>\n",
       "    <tr>\n",
       "      <th>11</th>\n",
       "      <td>IIT-(ISM) Dhanbad</td>\n",
       "    </tr>\n",
       "    <tr>\n",
       "      <th>12</th>\n",
       "      <td>IIT-Bhubaneswar</td>\n",
       "    </tr>\n",
       "    <tr>\n",
       "      <th>13</th>\n",
       "      <td>IIT-Mandi</td>\n",
       "    </tr>\n",
       "    <tr>\n",
       "      <th>14</th>\n",
       "      <td>IIT-Gandhinagar</td>\n",
       "    </tr>\n",
       "    <tr>\n",
       "      <th>15</th>\n",
       "      <td>IIT-Ropar</td>\n",
       "    </tr>\n",
       "    <tr>\n",
       "      <th>16</th>\n",
       "      <td>IIT-Jodhpur</td>\n",
       "    </tr>\n",
       "    <tr>\n",
       "      <th>17</th>\n",
       "      <td>IIT-Tirupati</td>\n",
       "    </tr>\n",
       "    <tr>\n",
       "      <th>18</th>\n",
       "      <td>IIT-Bhilai</td>\n",
       "    </tr>\n",
       "    <tr>\n",
       "      <th>19</th>\n",
       "      <td>IIT-Dharwad</td>\n",
       "    </tr>\n",
       "    <tr>\n",
       "      <th>20</th>\n",
       "      <td>IIT-Goa</td>\n",
       "    </tr>\n",
       "    <tr>\n",
       "      <th>21</th>\n",
       "      <td>IIT-Jammu</td>\n",
       "    </tr>\n",
       "    <tr>\n",
       "      <th>22</th>\n",
       "      <td>IIT-Palakkad</td>\n",
       "    </tr>\n",
       "    <tr>\n",
       "      <th>23</th>\n",
       "      <td>NIT-Warangal</td>\n",
       "    </tr>\n",
       "    <tr>\n",
       "      <th>24</th>\n",
       "      <td>NIT-Tiruchirappalli</td>\n",
       "    </tr>\n",
       "    <tr>\n",
       "      <th>25</th>\n",
       "      <td>NIT-Uttarakhand</td>\n",
       "    </tr>\n",
       "    <tr>\n",
       "      <th>26</th>\n",
       "      <td>NIT-Surat</td>\n",
       "    </tr>\n",
       "    <tr>\n",
       "      <th>27</th>\n",
       "      <td>NIT-Nagpur</td>\n",
       "    </tr>\n",
       "    <tr>\n",
       "      <th>28</th>\n",
       "      <td>NIT-Andhra-Pradesh</td>\n",
       "    </tr>\n",
       "    <tr>\n",
       "      <th>29</th>\n",
       "      <td>NIT-Jalandhar</td>\n",
       "    </tr>\n",
       "    <tr>\n",
       "      <th>30</th>\n",
       "      <td>NIT-Jaipur</td>\n",
       "    </tr>\n",
       "    <tr>\n",
       "      <th>31</th>\n",
       "      <td>NIT-Bhopal</td>\n",
       "    </tr>\n",
       "    <tr>\n",
       "      <th>32</th>\n",
       "      <td>NIT-Allahabad</td>\n",
       "    </tr>\n",
       "    <tr>\n",
       "      <th>33</th>\n",
       "      <td>NIT-Calicut</td>\n",
       "    </tr>\n",
       "    <tr>\n",
       "      <th>34</th>\n",
       "      <td>NIT-Agartala</td>\n",
       "    </tr>\n",
       "    <tr>\n",
       "      <th>35</th>\n",
       "      <td>NIT-Delhi</td>\n",
       "    </tr>\n",
       "    <tr>\n",
       "      <th>36</th>\n",
       "      <td>NIT-Durgapur</td>\n",
       "    </tr>\n",
       "    <tr>\n",
       "      <th>37</th>\n",
       "      <td>NIT-Goa</td>\n",
       "    </tr>\n",
       "    <tr>\n",
       "      <th>38</th>\n",
       "      <td>NIT-Hamirpur</td>\n",
       "    </tr>\n",
       "    <tr>\n",
       "      <th>39</th>\n",
       "      <td>NIT-Meghalaya</td>\n",
       "    </tr>\n",
       "    <tr>\n",
       "      <th>40</th>\n",
       "      <td>NIT-Karnataka-Surathkal</td>\n",
       "    </tr>\n",
       "    <tr>\n",
       "      <th>41</th>\n",
       "      <td>NIT-Patna</td>\n",
       "    </tr>\n",
       "    <tr>\n",
       "      <th>42</th>\n",
       "      <td>NIT-Nagaland</td>\n",
       "    </tr>\n",
       "    <tr>\n",
       "      <th>43</th>\n",
       "      <td>NIT-Puducherry</td>\n",
       "    </tr>\n",
       "    <tr>\n",
       "      <th>44</th>\n",
       "      <td>NIT-Raipur</td>\n",
       "    </tr>\n",
       "    <tr>\n",
       "      <th>45</th>\n",
       "      <td>NIT-Sikkim</td>\n",
       "    </tr>\n",
       "    <tr>\n",
       "      <th>46</th>\n",
       "      <td>NIT-Arunachal-Pradesh</td>\n",
       "    </tr>\n",
       "    <tr>\n",
       "      <th>47</th>\n",
       "      <td>NIT-Jamshedpur</td>\n",
       "    </tr>\n",
       "    <tr>\n",
       "      <th>48</th>\n",
       "      <td>NIT-Kurukshetra</td>\n",
       "    </tr>\n",
       "    <tr>\n",
       "      <th>49</th>\n",
       "      <td>NIT-Manipur</td>\n",
       "    </tr>\n",
       "    <tr>\n",
       "      <th>50</th>\n",
       "      <td>NIT-Mizoram</td>\n",
       "    </tr>\n",
       "    <tr>\n",
       "      <th>51</th>\n",
       "      <td>NIT-Rourkela</td>\n",
       "    </tr>\n",
       "    <tr>\n",
       "      <th>52</th>\n",
       "      <td>NIT-Silchar</td>\n",
       "    </tr>\n",
       "    <tr>\n",
       "      <th>53</th>\n",
       "      <td>NIT-Srinagar</td>\n",
       "    </tr>\n",
       "  </tbody>\n",
       "</table>\n",
       "</div>"
      ],
      "text/plain": [
       "                  Institute\n",
       "0                IIT-Bombay\n",
       "1                 IIT-Delhi\n",
       "2             IIT-Kharagpur\n",
       "3                IIT-Kanpur\n",
       "4                IIT-Madras\n",
       "5               IIT-Roorkee\n",
       "6              IIT-Guwahati\n",
       "7                IIT-Indore\n",
       "8             IIT-Hyderabad\n",
       "9        IIT-(BHU) Varanasi\n",
       "10                IIT-Patna\n",
       "11        IIT-(ISM) Dhanbad\n",
       "12          IIT-Bhubaneswar\n",
       "13                IIT-Mandi\n",
       "14          IIT-Gandhinagar\n",
       "15                IIT-Ropar\n",
       "16              IIT-Jodhpur\n",
       "17             IIT-Tirupati\n",
       "18               IIT-Bhilai\n",
       "19              IIT-Dharwad\n",
       "20                  IIT-Goa\n",
       "21                IIT-Jammu\n",
       "22             IIT-Palakkad\n",
       "23             NIT-Warangal\n",
       "24      NIT-Tiruchirappalli\n",
       "25          NIT-Uttarakhand\n",
       "26                NIT-Surat\n",
       "27               NIT-Nagpur\n",
       "28       NIT-Andhra-Pradesh\n",
       "29            NIT-Jalandhar\n",
       "30               NIT-Jaipur\n",
       "31               NIT-Bhopal\n",
       "32            NIT-Allahabad\n",
       "33              NIT-Calicut\n",
       "34             NIT-Agartala\n",
       "35                NIT-Delhi\n",
       "36             NIT-Durgapur\n",
       "37                  NIT-Goa\n",
       "38             NIT-Hamirpur\n",
       "39            NIT-Meghalaya\n",
       "40  NIT-Karnataka-Surathkal\n",
       "41                NIT-Patna\n",
       "42             NIT-Nagaland\n",
       "43           NIT-Puducherry\n",
       "44               NIT-Raipur\n",
       "45               NIT-Sikkim\n",
       "46    NIT-Arunachal-Pradesh\n",
       "47           NIT-Jamshedpur\n",
       "48          NIT-Kurukshetra\n",
       "49              NIT-Manipur\n",
       "50              NIT-Mizoram\n",
       "51             NIT-Rourkela\n",
       "52              NIT-Silchar\n",
       "53             NIT-Srinagar"
      ]
     },
     "execution_count": 13,
     "metadata": {},
     "output_type": "execute_result"
    }
   ],
   "source": [
    "# Various institutions \n",
    "\n",
    "Institutes = pd.DataFrame(df[\"institute_short\"].unique(), columns = {'Institute':0})\n",
    "Institutes "
   ]
  },
  {
   "cell_type": "code",
   "execution_count": 14,
   "id": "73c30b5e",
   "metadata": {
    "execution": {
     "iopub.execute_input": "2023-02-13T13:12:58.725660Z",
     "iopub.status.busy": "2023-02-13T13:12:58.725266Z",
     "iopub.status.idle": "2023-02-13T13:12:58.742532Z",
     "shell.execute_reply": "2023-02-13T13:12:58.741766Z"
    },
    "papermill": {
     "duration": 0.042713,
     "end_time": "2023-02-13T13:12:58.744555",
     "exception": false,
     "start_time": "2023-02-13T13:12:58.701842",
     "status": "completed"
    },
    "tags": []
   },
   "outputs": [
    {
     "data": {
      "text/html": [
       "<div>\n",
       "<style scoped>\n",
       "    .dataframe tbody tr th:only-of-type {\n",
       "        vertical-align: middle;\n",
       "    }\n",
       "\n",
       "    .dataframe tbody tr th {\n",
       "        vertical-align: top;\n",
       "    }\n",
       "\n",
       "    .dataframe thead th {\n",
       "        text-align: right;\n",
       "    }\n",
       "</style>\n",
       "<table border=\"1\" class=\"dataframe\">\n",
       "  <thead>\n",
       "    <tr style=\"text-align: right;\">\n",
       "      <th></th>\n",
       "      <th>program</th>\n",
       "    </tr>\n",
       "  </thead>\n",
       "  <tbody>\n",
       "    <tr>\n",
       "      <th>0</th>\n",
       "      <td>Aerospace Engineering</td>\n",
       "    </tr>\n",
       "    <tr>\n",
       "      <th>1</th>\n",
       "      <td>Chemical Engineering</td>\n",
       "    </tr>\n",
       "    <tr>\n",
       "      <th>2</th>\n",
       "      <td>Chemistry</td>\n",
       "    </tr>\n",
       "    <tr>\n",
       "      <th>3</th>\n",
       "      <td>Civil Engineering</td>\n",
       "    </tr>\n",
       "    <tr>\n",
       "      <th>4</th>\n",
       "      <td>Computer Science and Engineering</td>\n",
       "    </tr>\n",
       "    <tr>\n",
       "      <th>...</th>\n",
       "      <td>...</td>\n",
       "    </tr>\n",
       "    <tr>\n",
       "      <th>125</th>\n",
       "      <td>Food Process Engineering</td>\n",
       "    </tr>\n",
       "    <tr>\n",
       "      <th>126</th>\n",
       "      <td>Ceramic Engineering and M.Tech Industrial Ceramic</td>\n",
       "    </tr>\n",
       "    <tr>\n",
       "      <th>127</th>\n",
       "      <td>Life Science</td>\n",
       "    </tr>\n",
       "    <tr>\n",
       "      <th>128</th>\n",
       "      <td>Mathematics and Data Science</td>\n",
       "    </tr>\n",
       "    <tr>\n",
       "      <th>129</th>\n",
       "      <td>Computational Mathematics</td>\n",
       "    </tr>\n",
       "  </tbody>\n",
       "</table>\n",
       "<p>130 rows × 1 columns</p>\n",
       "</div>"
      ],
      "text/plain": [
       "                                               program\n",
       "0                                Aerospace Engineering\n",
       "1                                 Chemical Engineering\n",
       "2                                            Chemistry\n",
       "3                                    Civil Engineering\n",
       "4                     Computer Science and Engineering\n",
       "..                                                 ...\n",
       "125                           Food Process Engineering\n",
       "126  Ceramic Engineering and M.Tech Industrial Ceramic\n",
       "127                                       Life Science\n",
       "128                       Mathematics and Data Science\n",
       "129                          Computational Mathematics\n",
       "\n",
       "[130 rows x 1 columns]"
      ]
     },
     "execution_count": 14,
     "metadata": {},
     "output_type": "execute_result"
    }
   ],
   "source": [
    "# Various types of programs\n",
    "\n",
    "Programs = pd.DataFrame(df[\"program_name\"].unique(), columns = {'program':0})\n",
    "Programs"
   ]
  },
  {
   "cell_type": "code",
   "execution_count": 15,
   "id": "019ce8f5",
   "metadata": {
    "execution": {
     "iopub.execute_input": "2023-02-13T13:12:58.791404Z",
     "iopub.status.busy": "2023-02-13T13:12:58.791009Z",
     "iopub.status.idle": "2023-02-13T13:12:58.806120Z",
     "shell.execute_reply": "2023-02-13T13:12:58.805150Z"
    },
    "papermill": {
     "duration": 0.041309,
     "end_time": "2023-02-13T13:12:58.808514",
     "exception": false,
     "start_time": "2023-02-13T13:12:58.767205",
     "status": "completed"
    },
    "tags": []
   },
   "outputs": [
    {
     "data": {
      "text/html": [
       "<div>\n",
       "<style scoped>\n",
       "    .dataframe tbody tr th:only-of-type {\n",
       "        vertical-align: middle;\n",
       "    }\n",
       "\n",
       "    .dataframe tbody tr th {\n",
       "        vertical-align: top;\n",
       "    }\n",
       "\n",
       "    .dataframe thead th {\n",
       "        text-align: right;\n",
       "    }\n",
       "</style>\n",
       "<table border=\"1\" class=\"dataframe\">\n",
       "  <thead>\n",
       "    <tr style=\"text-align: right;\">\n",
       "      <th></th>\n",
       "      <th>Degree</th>\n",
       "    </tr>\n",
       "  </thead>\n",
       "  <tbody>\n",
       "    <tr>\n",
       "      <th>0</th>\n",
       "      <td>B.Tech</td>\n",
       "    </tr>\n",
       "    <tr>\n",
       "      <th>1</th>\n",
       "      <td>BSc</td>\n",
       "    </tr>\n",
       "    <tr>\n",
       "      <th>2</th>\n",
       "      <td>B.Tech + M.Tech (IDD)</td>\n",
       "    </tr>\n",
       "    <tr>\n",
       "      <th>3</th>\n",
       "      <td>Int MSc.</td>\n",
       "    </tr>\n",
       "    <tr>\n",
       "      <th>4</th>\n",
       "      <td>B.Arch</td>\n",
       "    </tr>\n",
       "    <tr>\n",
       "      <th>5</th>\n",
       "      <td>Int M.Tech</td>\n",
       "    </tr>\n",
       "    <tr>\n",
       "      <th>6</th>\n",
       "      <td>B.Pharm</td>\n",
       "    </tr>\n",
       "    <tr>\n",
       "      <th>7</th>\n",
       "      <td>B.Pharm + M.Pharm</td>\n",
       "    </tr>\n",
       "    <tr>\n",
       "      <th>8</th>\n",
       "      <td>BS + MS (IDD)</td>\n",
       "    </tr>\n",
       "    <tr>\n",
       "      <th>9</th>\n",
       "      <td>Int Msc.</td>\n",
       "    </tr>\n",
       "    <tr>\n",
       "      <th>10</th>\n",
       "      <td>B.Plan</td>\n",
       "    </tr>\n",
       "    <tr>\n",
       "      <th>11</th>\n",
       "      <td>Btech + M.Tech (IDD)</td>\n",
       "    </tr>\n",
       "    <tr>\n",
       "      <th>12</th>\n",
       "      <td>BSc + MSc (IDD)</td>\n",
       "    </tr>\n",
       "  </tbody>\n",
       "</table>\n",
       "</div>"
      ],
      "text/plain": [
       "                   Degree\n",
       "0                  B.Tech\n",
       "1                     BSc\n",
       "2   B.Tech + M.Tech (IDD)\n",
       "3                Int MSc.\n",
       "4                  B.Arch\n",
       "5              Int M.Tech\n",
       "6                 B.Pharm\n",
       "7       B.Pharm + M.Pharm\n",
       "8           BS + MS (IDD)\n",
       "9                Int Msc.\n",
       "10                 B.Plan\n",
       "11   Btech + M.Tech (IDD)\n",
       "12        BSc + MSc (IDD)"
      ]
     },
     "execution_count": 15,
     "metadata": {},
     "output_type": "execute_result"
    }
   ],
   "source": [
    "# Various degrees\n",
    "\n",
    "Degree = pd.DataFrame(df[\"degree_short\"].unique(), columns = {'Degree':0})\n",
    "Degree"
   ]
  },
  {
   "cell_type": "code",
   "execution_count": 16,
   "id": "e9d934a1",
   "metadata": {
    "execution": {
     "iopub.execute_input": "2023-02-13T13:12:58.856559Z",
     "iopub.status.busy": "2023-02-13T13:12:58.855964Z",
     "iopub.status.idle": "2023-02-13T13:12:58.866752Z",
     "shell.execute_reply": "2023-02-13T13:12:58.865779Z"
    },
    "papermill": {
     "duration": 0.037119,
     "end_time": "2023-02-13T13:12:58.869113",
     "exception": false,
     "start_time": "2023-02-13T13:12:58.831994",
     "status": "completed"
    },
    "tags": []
   },
   "outputs": [],
   "source": [
    "# Correcting the values\n",
    "\n",
    "df.loc[df[\"degree_short\"] == \"Int Msc.\", \"degree_short\"] = \"Int MSc.\""
   ]
  },
  {
   "cell_type": "code",
   "execution_count": 17,
   "id": "8068e494",
   "metadata": {
    "execution": {
     "iopub.execute_input": "2023-02-13T13:12:58.915936Z",
     "iopub.status.busy": "2023-02-13T13:12:58.915530Z",
     "iopub.status.idle": "2023-02-13T13:12:58.925838Z",
     "shell.execute_reply": "2023-02-13T13:12:58.925123Z"
    },
    "papermill": {
     "duration": 0.03617,
     "end_time": "2023-02-13T13:12:58.927832",
     "exception": false,
     "start_time": "2023-02-13T13:12:58.891662",
     "status": "completed"
    },
    "tags": []
   },
   "outputs": [
    {
     "data": {
      "text/plain": [
       "12"
      ]
     },
     "execution_count": 17,
     "metadata": {},
     "output_type": "execute_result"
    }
   ],
   "source": [
    "df[\"degree_short\"].nunique()"
   ]
  },
  {
   "cell_type": "code",
   "execution_count": 18,
   "id": "a15e1033",
   "metadata": {
    "execution": {
     "iopub.execute_input": "2023-02-13T13:12:58.976207Z",
     "iopub.status.busy": "2023-02-13T13:12:58.975634Z",
     "iopub.status.idle": "2023-02-13T13:12:58.988704Z",
     "shell.execute_reply": "2023-02-13T13:12:58.987942Z"
    },
    "papermill": {
     "duration": 0.039607,
     "end_time": "2023-02-13T13:12:58.990788",
     "exception": false,
     "start_time": "2023-02-13T13:12:58.951181",
     "status": "completed"
    },
    "tags": []
   },
   "outputs": [
    {
     "data": {
      "text/html": [
       "<div>\n",
       "<style scoped>\n",
       "    .dataframe tbody tr th:only-of-type {\n",
       "        vertical-align: middle;\n",
       "    }\n",
       "\n",
       "    .dataframe tbody tr th {\n",
       "        vertical-align: top;\n",
       "    }\n",
       "\n",
       "    .dataframe thead th {\n",
       "        text-align: right;\n",
       "    }\n",
       "</style>\n",
       "<table border=\"1\" class=\"dataframe\">\n",
       "  <thead>\n",
       "    <tr style=\"text-align: right;\">\n",
       "      <th></th>\n",
       "      <th>0</th>\n",
       "    </tr>\n",
       "  </thead>\n",
       "  <tbody>\n",
       "    <tr>\n",
       "      <th>0</th>\n",
       "      <td>GEN</td>\n",
       "    </tr>\n",
       "    <tr>\n",
       "      <th>1</th>\n",
       "      <td>OBC-NCL</td>\n",
       "    </tr>\n",
       "    <tr>\n",
       "      <th>2</th>\n",
       "      <td>SC</td>\n",
       "    </tr>\n",
       "    <tr>\n",
       "      <th>3</th>\n",
       "      <td>ST</td>\n",
       "    </tr>\n",
       "    <tr>\n",
       "      <th>4</th>\n",
       "      <td>GEN-PWD</td>\n",
       "    </tr>\n",
       "    <tr>\n",
       "      <th>5</th>\n",
       "      <td>OBC-NCL-PWD</td>\n",
       "    </tr>\n",
       "    <tr>\n",
       "      <th>6</th>\n",
       "      <td>SC-PWD</td>\n",
       "    </tr>\n",
       "    <tr>\n",
       "      <th>7</th>\n",
       "      <td>ST-PWD</td>\n",
       "    </tr>\n",
       "    <tr>\n",
       "      <th>8</th>\n",
       "      <td>GEN-EWS</td>\n",
       "    </tr>\n",
       "    <tr>\n",
       "      <th>9</th>\n",
       "      <td>GEN-EWS-PWD</td>\n",
       "    </tr>\n",
       "  </tbody>\n",
       "</table>\n",
       "</div>"
      ],
      "text/plain": [
       "             0\n",
       "0          GEN\n",
       "1      OBC-NCL\n",
       "2           SC\n",
       "3           ST\n",
       "4      GEN-PWD\n",
       "5  OBC-NCL-PWD\n",
       "6       SC-PWD\n",
       "7       ST-PWD\n",
       "8      GEN-EWS\n",
       "9  GEN-EWS-PWD"
      ]
     },
     "execution_count": 18,
     "metadata": {},
     "output_type": "execute_result"
    }
   ],
   "source": [
    "# Unique values in category\n",
    "\n",
    "Category = pd.DataFrame(df[\"category\"].unique())\n",
    "Category"
   ]
  },
  {
   "cell_type": "code",
   "execution_count": 19,
   "id": "8d0acbdc",
   "metadata": {
    "execution": {
     "iopub.execute_input": "2023-02-13T13:12:59.039247Z",
     "iopub.status.busy": "2023-02-13T13:12:59.038657Z",
     "iopub.status.idle": "2023-02-13T13:13:00.221593Z",
     "shell.execute_reply": "2023-02-13T13:13:00.220270Z"
    },
    "papermill": {
     "duration": 1.21051,
     "end_time": "2023-02-13T13:13:00.224610",
     "exception": false,
     "start_time": "2023-02-13T13:12:59.014100",
     "status": "completed"
    },
    "tags": []
   },
   "outputs": [
    {
     "data": {
      "text/plain": [
       "<AxesSubplot:>"
      ]
     },
     "execution_count": 19,
     "metadata": {},
     "output_type": "execute_result"
    },
    {
     "data": {
      "image/png": "[encoded data removed]",
      "text/plain": [
       "<Figure size 432x288 with 2 Axes>"
      ]
     },
     "metadata": {
      "needs_background": "light"
     },
     "output_type": "display_data"
    }
   ],
   "source": [
    "# Checking the null values in dataset\n",
    "\n",
    "sns.heatmap(df.isnull(),yticklabels=False,cmap='viridis', alpha = 0.5)"
   ]
  },
  {
   "cell_type": "code",
   "execution_count": 20,
   "id": "9fa2934f",
   "metadata": {
    "execution": {
     "iopub.execute_input": "2023-02-13T13:13:00.275113Z",
     "iopub.status.busy": "2023-02-13T13:13:00.273862Z",
     "iopub.status.idle": "2023-02-13T13:13:00.582382Z",
     "shell.execute_reply": "2023-02-13T13:13:00.580960Z"
    },
    "papermill": {
     "duration": 0.336988,
     "end_time": "2023-02-13T13:13:00.585550",
     "exception": false,
     "start_time": "2023-02-13T13:13:00.248562",
     "status": "completed"
    },
    "tags": []
   },
   "outputs": [],
   "source": [
    "# Creating new CSV file After correcting the Dataset\n",
    "\n",
    "df.to_csv(\"iit-and-nit-colleges-admission-criteria-version-2.csv\")"
   ]
  },
  {
   "cell_type": "markdown",
   "id": "53e90a24",
   "metadata": {
    "papermill": {
     "duration": 0.023862,
     "end_time": "2023-02-13T13:13:00.633699",
     "exception": false,
     "start_time": "2023-02-13T13:13:00.609837",
     "status": "completed"
    },
    "tags": []
   },
   "source": [
    "***"
   ]
  },
  {
   "cell_type": "markdown",
   "id": "897eba5b",
   "metadata": {
    "papermill": {
     "duration": 0.023494,
     "end_time": "2023-02-13T13:13:00.683756",
     "exception": false,
     "start_time": "2023-02-13T13:13:00.660262",
     "status": "completed"
    },
    "tags": []
   },
   "source": [
    "# **<span style=\"color:#ff3385;\">🥽 Let's see what all we can explore in this dataset</span>**\n",
    "\n",
    "> 1. What does reservation say about admit to these colleges?\n",
    "\n",
    "> 2. What is the most optimum Opening and closing rank in overall years?\n",
    "\n",
    "> 3. Which universities/colleges provide preparatory courses?\n",
    "\n",
    "> 4. Which category gets most preference for prepratory courses? \n",
    "\n",
    "> 5. Institutes and degrees they provide?\n",
    "\n",
    "> 6. Which institute who provide 4 year and 5 year courses?"
   ]
  },
  {
   "cell_type": "code",
   "execution_count": 21,
   "id": "3924fb58",
   "metadata": {
    "execution": {
     "iopub.execute_input": "2023-02-13T13:13:00.733814Z",
     "iopub.status.busy": "2023-02-13T13:13:00.732863Z",
     "iopub.status.idle": "2023-02-13T13:13:01.679965Z",
     "shell.execute_reply": "2023-02-13T13:13:01.678508Z"
    },
    "papermill": {
     "duration": 0.975773,
     "end_time": "2023-02-13T13:13:01.683346",
     "exception": false,
     "start_time": "2023-02-13T13:13:00.707573",
     "status": "completed"
    },
    "tags": []
   },
   "outputs": [
    {
     "data": {
      "image/png": "[encoded data removed]",
      "text/plain": [
       "<Figure size 1080x576 with 1 Axes>"
      ]
     },
     "metadata": {
      "needs_background": "light"
     },
     "output_type": "display_data"
    }
   ],
   "source": [
    "#Let's check out All Institutes in the dataset\n",
    "\n",
    "plt.figure(figsize=(15,8))\n",
    "institutes = df.groupby(['institute_short']).size().plot(kind = 'bar', color = \"#5cd65c\", alpha = 0.5)\n",
    "plt.show()"
   ]
  },
  {
   "cell_type": "code",
   "execution_count": 22,
   "id": "2baf056a",
   "metadata": {
    "execution": {
     "iopub.execute_input": "2023-02-13T13:13:01.737573Z",
     "iopub.status.busy": "2023-02-13T13:13:01.737099Z",
     "iopub.status.idle": "2023-02-13T13:13:01.944179Z",
     "shell.execute_reply": "2023-02-13T13:13:01.942663Z"
    },
    "papermill": {
     "duration": 0.237961,
     "end_time": "2023-02-13T13:13:01.946953",
     "exception": false,
     "start_time": "2023-02-13T13:13:01.708992",
     "status": "completed"
    },
    "tags": []
   },
   "outputs": [
    {
     "data": {
      "text/plain": [
       "Text(0, 0.5, 'students')"
      ]
     },
     "execution_count": 22,
     "metadata": {},
     "output_type": "execute_result"
    },
    {
     "data": {
      "image/png": "[encoded data removed]",
      "text/plain": [
       "<Figure size 1080x576 with 1 Axes>"
      ]
     },
     "metadata": {
      "needs_background": "light"
     },
     "output_type": "display_data"
    }
   ],
   "source": [
    "# Students admitted per year\n",
    "\n",
    "plt.figure(figsize=(15,8))\n",
    "plt.title('student per year')\n",
    "sns.lineplot(x=['2021','2020','2019','2018','2017','2016'],y=df['year'].value_counts(), color = \"#ff1a1a\", alpha = 0.5)\n",
    "plt.ylabel('students')"
   ]
  },
  {
   "cell_type": "markdown",
   "id": "03e1f364",
   "metadata": {
    "papermill": {
     "duration": 0.025738,
     "end_time": "2023-02-13T13:13:01.999682",
     "exception": false,
     "start_time": "2023-02-13T13:13:01.973944",
     "status": "completed"
    },
    "tags": []
   },
   "source": [
    "## **<span style=\"color:#ff3385;\">1️⃣ What does reservation say about admit to these colleges?</span>**"
   ]
  },
  {
   "cell_type": "code",
   "execution_count": 23,
   "id": "505b6d33",
   "metadata": {
    "execution": {
     "iopub.execute_input": "2023-02-13T13:13:02.055065Z",
     "iopub.status.busy": "2023-02-13T13:13:02.054127Z",
     "iopub.status.idle": "2023-02-13T13:13:02.065221Z",
     "shell.execute_reply": "2023-02-13T13:13:02.064445Z"
    },
    "papermill": {
     "duration": 0.042144,
     "end_time": "2023-02-13T13:13:02.067516",
     "exception": false,
     "start_time": "2023-02-13T13:13:02.025372",
     "status": "completed"
    },
    "tags": []
   },
   "outputs": [
    {
     "data": {
      "text/plain": [
       "AI    32905\n",
       "OS    16962\n",
       "HS    14291\n",
       "JK      393\n",
       "GO      275\n",
       "AP       72\n",
       "LA       60\n",
       "Name: quota, dtype: int64"
      ]
     },
     "execution_count": 23,
     "metadata": {},
     "output_type": "execute_result"
    }
   ],
   "source": [
    "max_quota = df['quota'].value_counts()\n",
    "max_quota"
   ]
  },
  {
   "cell_type": "markdown",
   "id": "a867d155",
   "metadata": {
    "papermill": {
     "duration": 0.025535,
     "end_time": "2023-02-13T13:13:02.119807",
     "exception": false,
     "start_time": "2023-02-13T13:13:02.094272",
     "status": "completed"
    },
    "tags": []
   },
   "source": [
    "*Since, AI (all India) reservation has max counts - it can be a factor contributing to admissions.*"
   ]
  },
  {
   "cell_type": "code",
   "execution_count": 24,
   "id": "dbaa52cd",
   "metadata": {
    "execution": {
     "iopub.execute_input": "2023-02-13T13:13:02.172957Z",
     "iopub.status.busy": "2023-02-13T13:13:02.172402Z",
     "iopub.status.idle": "2023-02-13T13:13:02.335387Z",
     "shell.execute_reply": "2023-02-13T13:13:02.334161Z"
    },
    "papermill": {
     "duration": 0.193095,
     "end_time": "2023-02-13T13:13:02.338354",
     "exception": false,
     "start_time": "2023-02-13T13:13:02.145259",
     "status": "completed"
    },
    "tags": []
   },
   "outputs": [
    {
     "data": {
      "image/png": "[encoded data removed]",
      "text/plain": [
       "<Figure size 1080x576 with 1 Axes>"
      ]
     },
     "metadata": {
      "needs_background": "light"
     },
     "output_type": "display_data"
    }
   ],
   "source": [
    "plt.figure(figsize=(15,8))\n",
    "plt.plot(max_quota, color = \"#2e2eb8\", alpha = 0.5)\n",
    "plt.show()"
   ]
  },
  {
   "cell_type": "code",
   "execution_count": 25,
   "id": "93dfa89d",
   "metadata": {
    "execution": {
     "iopub.execute_input": "2023-02-13T13:13:02.394874Z",
     "iopub.status.busy": "2023-02-13T13:13:02.394140Z",
     "iopub.status.idle": "2023-02-13T13:13:02.673646Z",
     "shell.execute_reply": "2023-02-13T13:13:02.672222Z"
    },
    "papermill": {
     "duration": 0.312106,
     "end_time": "2023-02-13T13:13:02.676969",
     "exception": false,
     "start_time": "2023-02-13T13:13:02.364863",
     "status": "completed"
    },
    "tags": []
   },
   "outputs": [
    {
     "data": {
      "image/png": "[encoded data removed]",
      "text/plain": [
       "<Figure size 1080x576 with 1 Axes>"
      ]
     },
     "metadata": {
      "needs_background": "light"
     },
     "output_type": "display_data"
    }
   ],
   "source": [
    "#Yearly quota study\n",
    "\n",
    "plt.figure(figsize=(15,8))\n",
    "year_club = df.groupby(['year', 'quota']).size().plot(kind = 'bar', color = \"#000000\", alpha = 0.5)"
   ]
  },
  {
   "cell_type": "markdown",
   "id": "adf1c289",
   "metadata": {
    "papermill": {
     "duration": 0.026731,
     "end_time": "2023-02-13T13:13:02.732871",
     "exception": false,
     "start_time": "2023-02-13T13:13:02.706140",
     "status": "completed"
    },
    "tags": []
   },
   "source": [
    "**<span style=\"color:#006600;\">From the above plot, we see that AI - all India quota covers maximum number of students followed by OS - Other State and HS - Home State.\n",
    "While the second plot depicts that AI(All India) quota played an important role from 2016 to 2018.</span>**"
   ]
  },
  {
   "cell_type": "markdown",
   "id": "f7a3719a",
   "metadata": {
    "papermill": {
     "duration": 0.026245,
     "end_time": "2023-02-13T13:13:02.785019",
     "exception": false,
     "start_time": "2023-02-13T13:13:02.758774",
     "status": "completed"
    },
    "tags": []
   },
   "source": [
    "## **<span style=\"color:#ff3385;\">2️⃣ What is the most optimum Opening and closing rank in overall years??</span>**"
   ]
  },
  {
   "cell_type": "markdown",
   "id": "e8af8e51",
   "metadata": {
    "papermill": {
     "duration": 0.025713,
     "end_time": "2023-02-13T13:13:02.836727",
     "exception": false,
     "start_time": "2023-02-13T13:13:02.811014",
     "status": "completed"
    },
    "tags": []
   },
   "source": [
    "----------------------------------------------------------------------------- **Opening Ranks** --------------------------------------------------------------------------------"
   ]
  },
  {
   "cell_type": "code",
   "execution_count": 26,
   "id": "06d65765",
   "metadata": {
    "execution": {
     "iopub.execute_input": "2023-02-13T13:13:02.893220Z",
     "iopub.status.busy": "2023-02-13T13:13:02.892211Z",
     "iopub.status.idle": "2023-02-13T13:13:02.901682Z",
     "shell.execute_reply": "2023-02-13T13:13:02.899760Z"
    },
    "papermill": {
     "duration": 0.041459,
     "end_time": "2023-02-13T13:13:02.904209",
     "exception": false,
     "start_time": "2023-02-13T13:13:02.862750",
     "status": "completed"
    },
    "tags": []
   },
   "outputs": [
    {
     "name": "stdout",
     "output_type": "stream",
     "text": [
      "Average opening rank over the years has been -  8260\n"
     ]
    }
   ],
   "source": [
    "avg_opening_rank = df['opening_rank'].mean(axis = 0)\n",
    "avg_open_rank = round(avg_opening_rank)\n",
    "print(\"Average opening rank over the years has been - \", avg_open_rank)"
   ]
  },
  {
   "cell_type": "code",
   "execution_count": 27,
   "id": "9013716b",
   "metadata": {
    "execution": {
     "iopub.execute_input": "2023-02-13T13:13:02.960721Z",
     "iopub.status.busy": "2023-02-13T13:13:02.959984Z",
     "iopub.status.idle": "2023-02-13T13:13:02.966778Z",
     "shell.execute_reply": "2023-02-13T13:13:02.965699Z"
    },
    "papermill": {
     "duration": 0.037443,
     "end_time": "2023-02-13T13:13:02.969138",
     "exception": false,
     "start_time": "2023-02-13T13:13:02.931695",
     "status": "completed"
    },
    "tags": []
   },
   "outputs": [
    {
     "name": "stdout",
     "output_type": "stream",
     "text": [
      "Max opening rank over the years has been -  1082601\n"
     ]
    }
   ],
   "source": [
    "max_opening_rank = df['opening_rank'].max(axis = 0)\n",
    "max_open_rank = round(max_opening_rank)\n",
    "print(\"Max opening rank over the years has been - \", max_open_rank)"
   ]
  },
  {
   "cell_type": "code",
   "execution_count": 28,
   "id": "9e9e966a",
   "metadata": {
    "execution": {
     "iopub.execute_input": "2023-02-13T13:13:03.023116Z",
     "iopub.status.busy": "2023-02-13T13:13:03.022709Z",
     "iopub.status.idle": "2023-02-13T13:13:03.028765Z",
     "shell.execute_reply": "2023-02-13T13:13:03.028011Z"
    },
    "papermill": {
     "duration": 0.035633,
     "end_time": "2023-02-13T13:13:03.031019",
     "exception": false,
     "start_time": "2023-02-13T13:13:02.995386",
     "status": "completed"
    },
    "tags": []
   },
   "outputs": [
    {
     "name": "stdout",
     "output_type": "stream",
     "text": [
      "Min opening rank over the years has been -  0\n"
     ]
    }
   ],
   "source": [
    "min_opening_rank = df['opening_rank'].min(axis = 0)\n",
    "min_open_rank = round(min_opening_rank)\n",
    "print(\"Min opening rank over the years has been - \", min_open_rank)"
   ]
  },
  {
   "cell_type": "markdown",
   "id": "ea827726",
   "metadata": {
    "papermill": {
     "duration": 0.025541,
     "end_time": "2023-02-13T13:13:03.082482",
     "exception": false,
     "start_time": "2023-02-13T13:13:03.056941",
     "status": "completed"
    },
    "tags": []
   },
   "source": [
    "------------------------------------------------------------------------------ **Closing Ranks** --------------------------------------------------------------------------------"
   ]
  },
  {
   "cell_type": "code",
   "execution_count": 29,
   "id": "f07a2b51",
   "metadata": {
    "execution": {
     "iopub.execute_input": "2023-02-13T13:13:03.136930Z",
     "iopub.status.busy": "2023-02-13T13:13:03.136191Z",
     "iopub.status.idle": "2023-02-13T13:13:03.142982Z",
     "shell.execute_reply": "2023-02-13T13:13:03.141839Z"
    },
    "papermill": {
     "duration": 0.036454,
     "end_time": "2023-02-13T13:13:03.145454",
     "exception": false,
     "start_time": "2023-02-13T13:13:03.109000",
     "status": "completed"
    },
    "tags": []
   },
   "outputs": [
    {
     "name": "stdout",
     "output_type": "stream",
     "text": [
      "Average closing rank over the years has been -  10705\n"
     ]
    }
   ],
   "source": [
    "avg_closing_rank = round(df['closing_rank'].mean(axis = 0))\n",
    "print(\"Average closing rank over the years has been - \", avg_closing_rank)"
   ]
  },
  {
   "cell_type": "code",
   "execution_count": 30,
   "id": "d018dc86",
   "metadata": {
    "execution": {
     "iopub.execute_input": "2023-02-13T13:13:03.200007Z",
     "iopub.status.busy": "2023-02-13T13:13:03.199249Z",
     "iopub.status.idle": "2023-02-13T13:13:03.206037Z",
     "shell.execute_reply": "2023-02-13T13:13:03.204800Z"
    },
    "papermill": {
     "duration": 0.036079,
     "end_time": "2023-02-13T13:13:03.208289",
     "exception": false,
     "start_time": "2023-02-13T13:13:03.172210",
     "status": "completed"
    },
    "tags": []
   },
   "outputs": [
    {
     "name": "stdout",
     "output_type": "stream",
     "text": [
      "Max closing rank over the years has been -  1144790\n"
     ]
    }
   ],
   "source": [
    "max_closing_rank = df['closing_rank'].max(axis = 0)\n",
    "max_close_rank = round(max_closing_rank)\n",
    "print(\"Max closing rank over the years has been - \", max_close_rank)"
   ]
  },
  {
   "cell_type": "code",
   "execution_count": 31,
   "id": "2122c2ab",
   "metadata": {
    "execution": {
     "iopub.execute_input": "2023-02-13T13:13:03.261937Z",
     "iopub.status.busy": "2023-02-13T13:13:03.261559Z",
     "iopub.status.idle": "2023-02-13T13:13:03.268016Z",
     "shell.execute_reply": "2023-02-13T13:13:03.266838Z"
    },
    "papermill": {
     "duration": 0.036674,
     "end_time": "2023-02-13T13:13:03.270881",
     "exception": false,
     "start_time": "2023-02-13T13:13:03.234207",
     "status": "completed"
    },
    "tags": []
   },
   "outputs": [
    {
     "name": "stdout",
     "output_type": "stream",
     "text": [
      "Min closing rank over the years has been -  0\n"
     ]
    }
   ],
   "source": [
    "min_closing_rank = df['closing_rank'].min(axis = 0)\n",
    "min_close_rank = round(min_closing_rank)\n",
    "print(\"Min closing rank over the years has been - \", min_close_rank)"
   ]
  },
  {
   "cell_type": "markdown",
   "id": "e43f49c7",
   "metadata": {
    "papermill": {
     "duration": 0.025756,
     "end_time": "2023-02-13T13:13:03.322726",
     "exception": false,
     "start_time": "2023-02-13T13:13:03.296970",
     "status": "completed"
    },
    "tags": []
   },
   "source": [
    "**<span style=\"color:#006600;\">From analysis of Opening and Closing ranks, we can say that on average if you score a rank around ~8000 then you might become eligible. While keeping in mind the quota factor, the maximum and minimum ranks still vary on a range of large scale till about 10 lakhs.</span>**"
   ]
  },
  {
   "cell_type": "markdown",
   "id": "b3d25d07",
   "metadata": {
    "papermill": {
     "duration": 0.025361,
     "end_time": "2023-02-13T13:13:03.373965",
     "exception": false,
     "start_time": "2023-02-13T13:13:03.348604",
     "status": "completed"
    },
    "tags": []
   },
   "source": [
    "## **<span style=\"color:#ff3385;\">3️⃣  Which universities/colleges provide preparatory courses? </span>**"
   ]
  },
  {
   "cell_type": "markdown",
   "id": "042ea6b5",
   "metadata": {
    "papermill": {
     "duration": 0.026194,
     "end_time": "2023-02-13T13:13:03.425862",
     "exception": false,
     "start_time": "2023-02-13T13:13:03.399668",
     "status": "completed"
    },
    "tags": []
   },
   "source": [
    "The IIT Preparatory Course comprises of courses in Mathematics, Physics, Chemistry and English for two semesters after which the candidates are evaluated."
   ]
  },
  {
   "cell_type": "code",
   "execution_count": 32,
   "id": "b7eb2054",
   "metadata": {
    "execution": {
     "iopub.execute_input": "2023-02-13T13:13:03.479157Z",
     "iopub.status.busy": "2023-02-13T13:13:03.478778Z",
     "iopub.status.idle": "2023-02-13T13:13:03.713373Z",
     "shell.execute_reply": "2023-02-13T13:13:03.712491Z"
    },
    "papermill": {
     "duration": 0.263908,
     "end_time": "2023-02-13T13:13:03.715546",
     "exception": false,
     "start_time": "2023-02-13T13:13:03.451638",
     "status": "completed"
    },
    "tags": []
   },
   "outputs": [
    {
     "data": {
      "image/png": "[encoded data removed]",
      "text/plain": [
       "<Figure size 1080x576 with 1 Axes>"
      ]
     },
     "metadata": {
      "needs_background": "light"
     },
     "output_type": "display_data"
    }
   ],
   "source": [
    "# Which universities/colleges provide preparatory courses (represented by 1)\n",
    "\n",
    "plt.figure(figsize=(15,8))\n",
    "prep_true = df.loc[df['is_preparatory'] == 1, 'institute_short'].value_counts()\n",
    "plt.plot(prep_true, 'o', color = \"#ff0000\", alpha = 0.5)\n",
    "plt.xticks(rotation = 60)\n",
    "plt.show() "
   ]
  },
  {
   "cell_type": "markdown",
   "id": "2751e2c8",
   "metadata": {
    "papermill": {
     "duration": 0.026462,
     "end_time": "2023-02-13T13:13:03.769544",
     "exception": false,
     "start_time": "2023-02-13T13:13:03.743082",
     "status": "completed"
    },
    "tags": []
   },
   "source": [
    "**<span style=\"color:#006600;\"> From the above chart, we found some of the colleges that provide preparatory courses. Here IIT Kharagpur provides maximum number of preparatory courses to students followed by IIT Roorkee and BHU.</span>**"
   ]
  },
  {
   "cell_type": "markdown",
   "id": "fe372f9b",
   "metadata": {
    "papermill": {
     "duration": 0.026215,
     "end_time": "2023-02-13T13:13:03.822195",
     "exception": false,
     "start_time": "2023-02-13T13:13:03.795980",
     "status": "completed"
    },
    "tags": []
   },
   "source": [
    "## **<span style=\"color:#ff3385;\">4️⃣ Which category gets most prefrence for prepratory courses?</span>**"
   ]
  },
  {
   "cell_type": "code",
   "execution_count": 33,
   "id": "038049c7",
   "metadata": {
    "execution": {
     "iopub.execute_input": "2023-02-13T13:13:03.878097Z",
     "iopub.status.busy": "2023-02-13T13:13:03.877379Z",
     "iopub.status.idle": "2023-02-13T13:13:04.066293Z",
     "shell.execute_reply": "2023-02-13T13:13:04.065412Z"
    },
    "papermill": {
     "duration": 0.219217,
     "end_time": "2023-02-13T13:13:04.068511",
     "exception": false,
     "start_time": "2023-02-13T13:13:03.849294",
     "status": "completed"
    },
    "tags": []
   },
   "outputs": [
    {
     "data": {
      "image/png": "[encoded data removed]",
      "text/plain": [
       "<Figure size 1080x576 with 1 Axes>"
      ]
     },
     "metadata": {
      "needs_background": "light"
     },
     "output_type": "display_data"
    }
   ],
   "source": [
    "plt.figure(figsize=(15,8))\n",
    "category_true = df.loc[df['is_preparatory'] == 1, 'category'].value_counts()\n",
    "category_plot = category_true.plot(kind = 'bar', color = \"#000066\", alpha = 0.5)\n",
    "\n",
    "plt.xticks(rotation = 360)\n",
    "plt.legend()\n",
    "plt.show()"
   ]
  },
  {
   "cell_type": "markdown",
   "id": "6dc1d511",
   "metadata": {
    "papermill": {
     "duration": 0.026705,
     "end_time": "2023-02-13T13:13:04.122389",
     "exception": false,
     "start_time": "2023-02-13T13:13:04.095684",
     "status": "completed"
    },
    "tags": []
   },
   "source": [
    "## **<span style=\"color:#ff3385;\">5️⃣ Institutes and degrees they provide </span>**"
   ]
  },
  {
   "cell_type": "markdown",
   "id": "09418859",
   "metadata": {
    "papermill": {
     "duration": 0.027046,
     "end_time": "2023-02-13T13:13:04.176558",
     "exception": false,
     "start_time": "2023-02-13T13:13:04.149512",
     "status": "completed"
    },
    "tags": []
   },
   "source": [
    "Here '**degree_short**' The name of the degree (Abbreviated) and '**institute_short**' is the name of institute (Abbreviated)"
   ]
  },
  {
   "cell_type": "code",
   "execution_count": 34,
   "id": "bdbe3b62",
   "metadata": {
    "execution": {
     "iopub.execute_input": "2023-02-13T13:13:04.232537Z",
     "iopub.status.busy": "2023-02-13T13:13:04.231810Z",
     "iopub.status.idle": "2023-02-13T13:13:04.593633Z",
     "shell.execute_reply": "2023-02-13T13:13:04.592479Z"
    },
    "papermill": {
     "duration": 0.392642,
     "end_time": "2023-02-13T13:13:04.596041",
     "exception": false,
     "start_time": "2023-02-13T13:13:04.203399",
     "status": "completed"
    },
    "tags": []
   },
   "outputs": [
    {
     "data": {
      "image/png": "[encoded data removed]",
      "text/plain": [
       "<Figure size 1080x576 with 1 Axes>"
      ]
     },
     "metadata": {
      "needs_background": "light"
     },
     "output_type": "display_data"
    }
   ],
   "source": [
    "plt.figure(figsize=(15,8))\n",
    "year_club = df.groupby(['degree_short','institute_short']).institute_short.count().head(20).plot(kind = 'bar',color = \"#ff6600\", alpha = 0.5)\n",
    "plt.legend()\n",
    "plt.show()"
   ]
  },
  {
   "cell_type": "markdown",
   "id": "6cf147d4",
   "metadata": {
    "papermill": {
     "duration": 0.02825,
     "end_time": "2023-02-13T13:13:04.653390",
     "exception": false,
     "start_time": "2023-02-13T13:13:04.625140",
     "status": "completed"
    },
    "tags": []
   },
   "source": [
    "**<span style=\"color:#006600;\">As per above bar graph, B.Tech still seems to be the choice of most students when it comes to getting admission in IIT or NITs.</span>**"
   ]
  },
  {
   "cell_type": "markdown",
   "id": "17c504bf",
   "metadata": {
    "papermill": {
     "duration": 0.028104,
     "end_time": "2023-02-13T13:13:04.710957",
     "exception": false,
     "start_time": "2023-02-13T13:13:04.682853",
     "status": "completed"
    },
    "tags": []
   },
   "source": [
    "## **<span style=\"color:#ff3385;\">6️⃣ Institutes who provide 4 year and 5 year courses.</span>**"
   ]
  },
  {
   "cell_type": "code",
   "execution_count": 35,
   "id": "d2f139fd",
   "metadata": {
    "execution": {
     "iopub.execute_input": "2023-02-13T13:13:04.769160Z",
     "iopub.status.busy": "2023-02-13T13:13:04.768775Z",
     "iopub.status.idle": "2023-02-13T13:13:05.058120Z",
     "shell.execute_reply": "2023-02-13T13:13:05.057213Z"
    },
    "papermill": {
     "duration": 0.321566,
     "end_time": "2023-02-13T13:13:05.060711",
     "exception": false,
     "start_time": "2023-02-13T13:13:04.739145",
     "status": "completed"
    },
    "tags": []
   },
   "outputs": [
    {
     "data": {
      "image/png": "[encoded data removed]",
      "text/plain": [
       "<Figure size 1080x576 with 1 Axes>"
      ]
     },
     "metadata": {
      "needs_background": "light"
     },
     "output_type": "display_data"
    }
   ],
   "source": [
    "#Institutes with 4 year courses\n",
    "\n",
    "plt.figure(figsize=(15,8))\n",
    "\n",
    "years_true = df.loc[df['program_duration'] == '4 Years', 'institute_short'].value_counts().head(20).plot(kind = 'bar',color = \"#47d147\", alpha = 0.5)\n",
    "\n",
    "plt.legend()\n",
    "plt.show()"
   ]
  },
  {
   "cell_type": "markdown",
   "id": "24ba8ed7",
   "metadata": {
    "papermill": {
     "duration": 0.028783,
     "end_time": "2023-02-13T13:13:05.118720",
     "exception": false,
     "start_time": "2023-02-13T13:13:05.089937",
     "status": "completed"
    },
    "tags": []
   },
   "source": [
    "**<span style=\"color:#006600;\">IIT Kharagpur has most 4 years courses to offer followed by IIT-Delhi and IIT-Kanpur.</span>**"
   ]
  },
  {
   "cell_type": "code",
   "execution_count": 36,
   "id": "ff422b65",
   "metadata": {
    "execution": {
     "iopub.execute_input": "2023-02-13T13:13:05.179273Z",
     "iopub.status.busy": "2023-02-13T13:13:05.178557Z",
     "iopub.status.idle": "2023-02-13T13:13:05.459216Z",
     "shell.execute_reply": "2023-02-13T13:13:05.457888Z"
    },
    "papermill": {
     "duration": 0.314267,
     "end_time": "2023-02-13T13:13:05.462057",
     "exception": false,
     "start_time": "2023-02-13T13:13:05.147790",
     "status": "completed"
    },
    "tags": []
   },
   "outputs": [
    {
     "data": {
      "image/png": "[encoded data removed]",
      "text/plain": [
       "<Figure size 1080x576 with 1 Axes>"
      ]
     },
     "metadata": {
      "needs_background": "light"
     },
     "output_type": "display_data"
    }
   ],
   "source": [
    "#Institutes with 5 year courses\n",
    "\n",
    "plt.figure(figsize=(15,8))\n",
    "\n",
    "years_true = df.loc[df['program_duration'] == '5 Years', 'institute_short'].value_counts().head(20).plot(kind = 'bar',color = \"#ff4da6\", alpha = 0.5)\n",
    "plt.legend()\n",
    "plt.show()"
   ]
  },
  {
   "cell_type": "markdown",
   "id": "394db891",
   "metadata": {
    "papermill": {
     "duration": 0.028892,
     "end_time": "2023-02-13T13:13:05.521072",
     "exception": false,
     "start_time": "2023-02-13T13:13:05.492180",
     "status": "completed"
    },
    "tags": []
   },
   "source": [
    "**<span style=\"color:#006600;\">IIT Kharagpur has most 5 years courses to offer followed by IIT-Varanasi and IIT-Roorkee.</span>**"
   ]
  },
  {
   "cell_type": "markdown",
   "id": "ae754689",
   "metadata": {
    "papermill": {
     "duration": 0.028812,
     "end_time": "2023-02-13T13:13:05.579060",
     "exception": false,
     "start_time": "2023-02-13T13:13:05.550248",
     "status": "completed"
    },
    "tags": []
   },
   "source": [
    "***"
   ]
  },
  {
   "cell_type": "markdown",
   "id": "9f9e7ab2",
   "metadata": {
    "papermill": {
     "duration": 0.029056,
     "end_time": "2023-02-13T13:13:05.637388",
     "exception": false,
     "start_time": "2023-02-13T13:13:05.608332",
     "status": "completed"
    },
    "tags": []
   },
   "source": [
    "# <h1 style='background:#000099; border:0; color:white; padding-top: 20px'><center>Prediction of College : IIT-NIT category wise cut-off data</center></h1> "
   ]
  },
  {
   "cell_type": "markdown",
   "id": "7cd0ed9a",
   "metadata": {
    "papermill": {
     "duration": 0.029779,
     "end_time": "2023-02-13T13:13:05.696591",
     "exception": false,
     "start_time": "2023-02-13T13:13:05.666812",
     "status": "completed"
    },
    "tags": []
   },
   "source": [
    "## **<span style=\"color:#ff3385;\">🔮 Prediction of Colleges</span>**\n",
    "\n",
    "The Colleges are predicted by the given featured dataset in which feature like Institute type, Round Number, Quota, Category, Opening Rank and Closing Rank is calculated to find the College, Branch and Degree."
   ]
  },
  {
   "cell_type": "code",
   "execution_count": 37,
   "id": "13fac05b",
   "metadata": {
    "execution": {
     "iopub.execute_input": "2023-02-13T13:13:05.756499Z",
     "iopub.status.busy": "2023-02-13T13:13:05.756033Z",
     "iopub.status.idle": "2023-02-13T13:13:05.774560Z",
     "shell.execute_reply": "2023-02-13T13:13:05.773298Z"
    },
    "papermill": {
     "duration": 0.051365,
     "end_time": "2023-02-13T13:13:05.776822",
     "exception": false,
     "start_time": "2023-02-13T13:13:05.725457",
     "status": "completed"
    },
    "tags": []
   },
   "outputs": [
    {
     "data": {
      "text/html": [
       "<div>\n",
       "<style scoped>\n",
       "    .dataframe tbody tr th:only-of-type {\n",
       "        vertical-align: middle;\n",
       "    }\n",
       "\n",
       "    .dataframe tbody tr th {\n",
       "        vertical-align: top;\n",
       "    }\n",
       "\n",
       "    .dataframe thead th {\n",
       "        text-align: right;\n",
       "    }\n",
       "</style>\n",
       "<table border=\"1\" class=\"dataframe\">\n",
       "  <thead>\n",
       "    <tr style=\"text-align: right;\">\n",
       "      <th></th>\n",
       "      <th>year</th>\n",
       "      <th>institute_type</th>\n",
       "      <th>round_no</th>\n",
       "      <th>quota</th>\n",
       "      <th>pool</th>\n",
       "      <th>institute_short</th>\n",
       "      <th>program_name</th>\n",
       "      <th>program_duration</th>\n",
       "      <th>degree_short</th>\n",
       "      <th>category</th>\n",
       "      <th>opening_rank</th>\n",
       "      <th>closing_rank</th>\n",
       "      <th>is_preparatory</th>\n",
       "    </tr>\n",
       "  </thead>\n",
       "  <tbody>\n",
       "    <tr>\n",
       "      <th>0</th>\n",
       "      <td>2016</td>\n",
       "      <td>IIT</td>\n",
       "      <td>6</td>\n",
       "      <td>AI</td>\n",
       "      <td>Gender-Neutral</td>\n",
       "      <td>IIT-Bombay</td>\n",
       "      <td>Aerospace Engineering</td>\n",
       "      <td>4 Years</td>\n",
       "      <td>B.Tech</td>\n",
       "      <td>GEN</td>\n",
       "      <td>838</td>\n",
       "      <td>1841</td>\n",
       "      <td>0</td>\n",
       "    </tr>\n",
       "    <tr>\n",
       "      <th>1</th>\n",
       "      <td>2016</td>\n",
       "      <td>IIT</td>\n",
       "      <td>6</td>\n",
       "      <td>AI</td>\n",
       "      <td>Gender-Neutral</td>\n",
       "      <td>IIT-Bombay</td>\n",
       "      <td>Aerospace Engineering</td>\n",
       "      <td>4 Years</td>\n",
       "      <td>B.Tech</td>\n",
       "      <td>OBC-NCL</td>\n",
       "      <td>408</td>\n",
       "      <td>1098</td>\n",
       "      <td>0</td>\n",
       "    </tr>\n",
       "    <tr>\n",
       "      <th>2</th>\n",
       "      <td>2016</td>\n",
       "      <td>IIT</td>\n",
       "      <td>6</td>\n",
       "      <td>AI</td>\n",
       "      <td>Gender-Neutral</td>\n",
       "      <td>IIT-Bombay</td>\n",
       "      <td>Aerospace Engineering</td>\n",
       "      <td>4 Years</td>\n",
       "      <td>B.Tech</td>\n",
       "      <td>SC</td>\n",
       "      <td>297</td>\n",
       "      <td>468</td>\n",
       "      <td>0</td>\n",
       "    </tr>\n",
       "    <tr>\n",
       "      <th>3</th>\n",
       "      <td>2016</td>\n",
       "      <td>IIT</td>\n",
       "      <td>6</td>\n",
       "      <td>AI</td>\n",
       "      <td>Gender-Neutral</td>\n",
       "      <td>IIT-Bombay</td>\n",
       "      <td>Aerospace Engineering</td>\n",
       "      <td>4 Years</td>\n",
       "      <td>B.Tech</td>\n",
       "      <td>ST</td>\n",
       "      <td>79</td>\n",
       "      <td>145</td>\n",
       "      <td>0</td>\n",
       "    </tr>\n",
       "    <tr>\n",
       "      <th>4</th>\n",
       "      <td>2016</td>\n",
       "      <td>IIT</td>\n",
       "      <td>6</td>\n",
       "      <td>AI</td>\n",
       "      <td>Gender-Neutral</td>\n",
       "      <td>IIT-Bombay</td>\n",
       "      <td>Aerospace Engineering</td>\n",
       "      <td>4 Years</td>\n",
       "      <td>B.Tech</td>\n",
       "      <td>GEN-PWD</td>\n",
       "      <td>94</td>\n",
       "      <td>94</td>\n",
       "      <td>0</td>\n",
       "    </tr>\n",
       "  </tbody>\n",
       "</table>\n",
       "</div>"
      ],
      "text/plain": [
       "   year institute_type  round_no quota            pool institute_short  \\\n",
       "0  2016            IIT         6    AI  Gender-Neutral      IIT-Bombay   \n",
       "1  2016            IIT         6    AI  Gender-Neutral      IIT-Bombay   \n",
       "2  2016            IIT         6    AI  Gender-Neutral      IIT-Bombay   \n",
       "3  2016            IIT         6    AI  Gender-Neutral      IIT-Bombay   \n",
       "4  2016            IIT         6    AI  Gender-Neutral      IIT-Bombay   \n",
       "\n",
       "            program_name program_duration degree_short category  opening_rank  \\\n",
       "0  Aerospace Engineering          4 Years       B.Tech      GEN           838   \n",
       "1  Aerospace Engineering          4 Years       B.Tech  OBC-NCL           408   \n",
       "2  Aerospace Engineering          4 Years       B.Tech       SC           297   \n",
       "3  Aerospace Engineering          4 Years       B.Tech       ST            79   \n",
       "4  Aerospace Engineering          4 Years       B.Tech  GEN-PWD            94   \n",
       "\n",
       "   closing_rank  is_preparatory  \n",
       "0          1841               0  \n",
       "1          1098               0  \n",
       "2           468               0  \n",
       "3           145               0  \n",
       "4            94               0  "
      ]
     },
     "execution_count": 37,
     "metadata": {},
     "output_type": "execute_result"
    }
   ],
   "source": [
    "Pred_College = df\n",
    "Pred_College.head()"
   ]
  },
  {
   "cell_type": "markdown",
   "id": "73c3efaf",
   "metadata": {
    "papermill": {
     "duration": 0.028703,
     "end_time": "2023-02-13T13:13:05.834726",
     "exception": false,
     "start_time": "2023-02-13T13:13:05.806023",
     "status": "completed"
    },
    "tags": []
   },
   "source": [
    "## **<span style=\"color:#a300cc;\">🔁 Converting object values into numerical form</span>**\n",
    "\n",
    "**institute_type** - IIT : 0, NIT : 1\n",
    "\n",
    "**Quota** :-\n",
    "\n",
    "AI : All-India - 0\n",
    "\n",
    "HS : Home-State - 3\n",
    "\n",
    "OS : Other-State - 6\n",
    "\n",
    "AP : Andhra Pradesh - 1\n",
    "\n",
    "GO : Goa - 2\n",
    "\n",
    "JK : Jammu & Kashmir - 4\n",
    "\n",
    "LA : Ladakh - 5\n",
    "\n",
    "**Pool** - Gender-Neutral : 0, Female-only : 1\n",
    "\n",
    "**Category** :-\n",
    "\n",
    "GEN : General - 0\n",
    "\n",
    "OBC-NCL : Other Backward Classes-Non Creamy Layer - 4\n",
    "\n",
    "SC : Scheduled Castes - 6\n",
    "\n",
    "ST : Scheduled Tribes - 8\n",
    "\n",
    "GEN-PWD : General & Persons with Disabilities - 3\n",
    "\n",
    "OBC-NCL-PWD : Other Backward Classes & Persons with Disabilities - 5\n",
    "\n",
    "SC-PWD : Scheduled Castes & Persons with Disabilities - 7\n",
    "\n",
    "ST-PWD : Scheduled Tribes & Persons with Disabilities - 9\n",
    "\n",
    "GEN-EWS : General & Economically Weaker Section - 1\n",
    "\n",
    "GEN-EWS-PWD : General & Economically Weaker Section & Persons with Disability - 2"
   ]
  },
  {
   "cell_type": "code",
   "execution_count": 38,
   "id": "752ca77e",
   "metadata": {
    "execution": {
     "iopub.execute_input": "2023-02-13T13:13:05.896816Z",
     "iopub.status.busy": "2023-02-13T13:13:05.895950Z",
     "iopub.status.idle": "2023-02-13T13:13:05.935889Z",
     "shell.execute_reply": "2023-02-13T13:13:05.934686Z"
    },
    "papermill": {
     "duration": 0.07452,
     "end_time": "2023-02-13T13:13:05.938630",
     "exception": false,
     "start_time": "2023-02-13T13:13:05.864110",
     "status": "completed"
    },
    "tags": []
   },
   "outputs": [
    {
     "data": {
      "text/plain": [
       "array([0, 1])"
      ]
     },
     "execution_count": 38,
     "metadata": {},
     "output_type": "execute_result"
    }
   ],
   "source": [
    "# Changing Institute type\n",
    "\n",
    "Pred_College['institute_type'] = [0 if x == 'IIT' else 1 for x in Pred_College['institute_type']]\n",
    "Pred_College['institute_type'].unique()"
   ]
  },
  {
   "cell_type": "code",
   "execution_count": 39,
   "id": "0719723d",
   "metadata": {
    "execution": {
     "iopub.execute_input": "2023-02-13T13:13:05.999805Z",
     "iopub.status.busy": "2023-02-13T13:13:05.999394Z",
     "iopub.status.idle": "2023-02-13T13:13:06.161138Z",
     "shell.execute_reply": "2023-02-13T13:13:06.160002Z"
    },
    "papermill": {
     "duration": 0.196045,
     "end_time": "2023-02-13T13:13:06.164044",
     "exception": false,
     "start_time": "2023-02-13T13:13:05.967999",
     "status": "completed"
    },
    "tags": []
   },
   "outputs": [],
   "source": [
    "# importing library for encoding\n",
    "\n",
    "from sklearn.preprocessing import LabelEncoder"
   ]
  },
  {
   "cell_type": "code",
   "execution_count": 40,
   "id": "f8cebda0",
   "metadata": {
    "execution": {
     "iopub.execute_input": "2023-02-13T13:13:06.227756Z",
     "iopub.status.busy": "2023-02-13T13:13:06.227335Z",
     "iopub.status.idle": "2023-02-13T13:13:06.391392Z",
     "shell.execute_reply": "2023-02-13T13:13:06.389995Z"
    },
    "papermill": {
     "duration": 0.199208,
     "end_time": "2023-02-13T13:13:06.394013",
     "exception": false,
     "start_time": "2023-02-13T13:13:06.194805",
     "status": "completed"
    },
    "tags": []
   },
   "outputs": [
    {
     "data": {
      "text/plain": [
       "array([0, 3, 6, 1, 2, 4, 5])"
      ]
     },
     "execution_count": 40,
     "metadata": {},
     "output_type": "execute_result"
    }
   ],
   "source": [
    "# Labeling the quota values\n",
    "\n",
    "le = LabelEncoder()\n",
    "Pred_College['quota'] = le.fit_transform(Pred_College['quota'])\n",
    "Pred_College['quota'].unique()"
   ]
  },
  {
   "cell_type": "code",
   "execution_count": 41,
   "id": "cf471350",
   "metadata": {
    "execution": {
     "iopub.execute_input": "2023-02-13T13:13:06.462118Z",
     "iopub.status.busy": "2023-02-13T13:13:06.460339Z",
     "iopub.status.idle": "2023-02-13T13:13:06.515814Z",
     "shell.execute_reply": "2023-02-13T13:13:06.514745Z"
    },
    "papermill": {
     "duration": 0.093724,
     "end_time": "2023-02-13T13:13:06.518703",
     "exception": false,
     "start_time": "2023-02-13T13:13:06.424979",
     "status": "completed"
    },
    "tags": []
   },
   "outputs": [
    {
     "data": {
      "text/plain": [
       "array([0, 1])"
      ]
     },
     "execution_count": 41,
     "metadata": {},
     "output_type": "execute_result"
    }
   ],
   "source": [
    "# changing the pool values\n",
    "\n",
    "Pred_College['pool'] = [0 if x == 'Gender-Neutral' else 1 for x in Pred_College['pool']]\n",
    "Pred_College['pool'].unique()"
   ]
  },
  {
   "cell_type": "code",
   "execution_count": 42,
   "id": "ff018a0d",
   "metadata": {
    "execution": {
     "iopub.execute_input": "2023-02-13T13:13:06.599670Z",
     "iopub.status.busy": "2023-02-13T13:13:06.599199Z",
     "iopub.status.idle": "2023-02-13T13:13:06.626050Z",
     "shell.execute_reply": "2023-02-13T13:13:06.624944Z"
    },
    "papermill": {
     "duration": 0.064554,
     "end_time": "2023-02-13T13:13:06.628574",
     "exception": false,
     "start_time": "2023-02-13T13:13:06.564020",
     "status": "completed"
    },
    "tags": []
   },
   "outputs": [
    {
     "data": {
      "text/plain": [
       "array([0, 4, 6, 8, 3, 5, 7, 9, 1, 2])"
      ]
     },
     "execution_count": 42,
     "metadata": {},
     "output_type": "execute_result"
    }
   ],
   "source": [
    "# Labeling the categories\n",
    "\n",
    "Pred_College['category']= le.fit_transform(Pred_College['category'])\n",
    "Pred_College['category'].unique()"
   ]
  },
  {
   "cell_type": "code",
   "execution_count": 43,
   "id": "4938eea6",
   "metadata": {
    "execution": {
     "iopub.execute_input": "2023-02-13T13:13:06.691894Z",
     "iopub.status.busy": "2023-02-13T13:13:06.691482Z",
     "iopub.status.idle": "2023-02-13T13:13:06.704454Z",
     "shell.execute_reply": "2023-02-13T13:13:06.703262Z"
    },
    "papermill": {
     "duration": 0.04795,
     "end_time": "2023-02-13T13:13:06.707131",
     "exception": false,
     "start_time": "2023-02-13T13:13:06.659181",
     "status": "completed"
    },
    "tags": []
   },
   "outputs": [],
   "source": [
    "# Selecting the target data\n",
    "\n",
    "y = Pred_College[['institute_short', 'program_name', 'degree_short']]"
   ]
  },
  {
   "cell_type": "code",
   "execution_count": 44,
   "id": "1778da18",
   "metadata": {
    "execution": {
     "iopub.execute_input": "2023-02-13T13:13:06.772169Z",
     "iopub.status.busy": "2023-02-13T13:13:06.771758Z",
     "iopub.status.idle": "2023-02-13T13:13:06.779685Z",
     "shell.execute_reply": "2023-02-13T13:13:06.778220Z"
    },
    "papermill": {
     "duration": 0.04332,
     "end_time": "2023-02-13T13:13:06.782131",
     "exception": false,
     "start_time": "2023-02-13T13:13:06.738811",
     "status": "completed"
    },
    "tags": []
   },
   "outputs": [],
   "source": [
    "# Selecting the featured data\n",
    "\n",
    "X = Pred_College[['institute_type', 'round_no', 'quota', 'pool',\n",
    "       'category', 'opening_rank', 'closing_rank']]"
   ]
  },
  {
   "cell_type": "markdown",
   "id": "f1adc72f",
   "metadata": {
    "papermill": {
     "duration": 0.030535,
     "end_time": "2023-02-13T13:13:06.844171",
     "exception": false,
     "start_time": "2023-02-13T13:13:06.813636",
     "status": "completed"
    },
    "tags": []
   },
   "source": [
    "## **<span style=\"color:#ff3385;\">💔 Splitting the training and testing data </span>**"
   ]
  },
  {
   "cell_type": "code",
   "execution_count": 45,
   "id": "bb5c6dc1",
   "metadata": {
    "execution": {
     "iopub.execute_input": "2023-02-13T13:13:06.906948Z",
     "iopub.status.busy": "2023-02-13T13:13:06.906249Z",
     "iopub.status.idle": "2023-02-13T13:13:06.979253Z",
     "shell.execute_reply": "2023-02-13T13:13:06.978386Z"
    },
    "papermill": {
     "duration": 0.107453,
     "end_time": "2023-02-13T13:13:06.982027",
     "exception": false,
     "start_time": "2023-02-13T13:13:06.874574",
     "status": "completed"
    },
    "tags": []
   },
   "outputs": [],
   "source": [
    "# Spilliting the data into training and testing dataset\n",
    "\n",
    "from sklearn.model_selection import train_test_split\n",
    "X_train, X_test, y_train, y_test = train_test_split(X, y, train_size = 0.8)"
   ]
  },
  {
   "cell_type": "code",
   "execution_count": 46,
   "id": "c3e6eaea",
   "metadata": {
    "execution": {
     "iopub.execute_input": "2023-02-13T13:13:07.047943Z",
     "iopub.status.busy": "2023-02-13T13:13:07.047517Z",
     "iopub.status.idle": "2023-02-13T13:13:07.055278Z",
     "shell.execute_reply": "2023-02-13T13:13:07.054255Z"
    },
    "papermill": {
     "duration": 0.043841,
     "end_time": "2023-02-13T13:13:07.058311",
     "exception": false,
     "start_time": "2023-02-13T13:13:07.014470",
     "status": "completed"
    },
    "tags": []
   },
   "outputs": [
    {
     "data": {
      "text/plain": [
       "array([[51966, 7],\n",
       "       [12992, 7],\n",
       "       [51966, 3],\n",
       "       [12992, 3]], dtype=object)"
      ]
     },
     "execution_count": 46,
     "metadata": {},
     "output_type": "execute_result"
    }
   ],
   "source": [
    "a = np.array([X_train.shape, X_test.shape, y_train.shape, y_test.shape], dtype = 'object')\n",
    "a"
   ]
  },
  {
   "cell_type": "markdown",
   "id": "9adeaa85",
   "metadata": {
    "papermill": {
     "duration": 0.030346,
     "end_time": "2023-02-13T13:13:07.119889",
     "exception": false,
     "start_time": "2023-02-13T13:13:07.089543",
     "status": "completed"
    },
    "tags": []
   },
   "source": [
    "## **<span style=\"color:#ff3385;\">🤖 Generating the model</span>**"
   ]
  },
  {
   "cell_type": "code",
   "execution_count": 47,
   "id": "c2faef95",
   "metadata": {
    "execution": {
     "iopub.execute_input": "2023-02-13T13:13:07.182890Z",
     "iopub.status.busy": "2023-02-13T13:13:07.181812Z",
     "iopub.status.idle": "2023-02-13T13:13:07.393970Z",
     "shell.execute_reply": "2023-02-13T13:13:07.392913Z"
    },
    "papermill": {
     "duration": 0.246473,
     "end_time": "2023-02-13T13:13:07.396611",
     "exception": false,
     "start_time": "2023-02-13T13:13:07.150138",
     "status": "completed"
    },
    "tags": []
   },
   "outputs": [],
   "source": [
    "# Importing library for mdoel generation\n",
    "\n",
    "from sklearn.ensemble import RandomForestClassifier \n",
    "model = RandomForestClassifier()"
   ]
  },
  {
   "cell_type": "code",
   "execution_count": 48,
   "id": "266b229c",
   "metadata": {
    "execution": {
     "iopub.execute_input": "2023-02-13T13:13:07.458535Z",
     "iopub.status.busy": "2023-02-13T13:13:07.458105Z",
     "iopub.status.idle": "2023-02-13T13:13:41.042773Z",
     "shell.execute_reply": "2023-02-13T13:13:41.041468Z"
    },
    "papermill": {
     "duration": 33.649367,
     "end_time": "2023-02-13T13:13:41.076222",
     "exception": false,
     "start_time": "2023-02-13T13:13:07.426855",
     "status": "completed"
    },
    "tags": []
   },
   "outputs": [
    {
     "data": {
      "text/plain": [
       "RandomForestClassifier()"
      ]
     },
     "execution_count": 48,
     "metadata": {},
     "output_type": "execute_result"
    }
   ],
   "source": [
    "model.fit(X_train, y_train)"
   ]
  },
  {
   "cell_type": "code",
   "execution_count": 49,
   "id": "839ba3de",
   "metadata": {
    "execution": {
     "iopub.execute_input": "2023-02-13T13:13:41.141413Z",
     "iopub.status.busy": "2023-02-13T13:13:41.140010Z",
     "iopub.status.idle": "2023-02-13T13:13:46.573726Z",
     "shell.execute_reply": "2023-02-13T13:13:46.572775Z"
    },
    "papermill": {
     "duration": 5.468262,
     "end_time": "2023-02-13T13:13:46.575849",
     "exception": false,
     "start_time": "2023-02-13T13:13:41.107587",
     "status": "completed"
    },
    "tags": []
   },
   "outputs": [
    {
     "data": {
      "text/plain": [
       "array([['NIT-Manipur', 'Civil Engineering', 'B.Tech'],\n",
       "       ['NIT-Agartala', 'Electronics and Instrumentation Engineering',\n",
       "        'B.Tech'],\n",
       "       ['IIT-Madras', 'Electrical Engineering', 'B.Tech + M.Tech (IDD)'],\n",
       "       ...,\n",
       "       ['IIT-Patna', 'Computer Science and Engineering', 'B.Tech'],\n",
       "       ['IIT-Roorkee', 'Physics', 'BS + MS (IDD)'],\n",
       "       ['NIT-Agartala', 'Computer Science and Engineering', 'B.Tech']],\n",
       "      dtype=object)"
      ]
     },
     "execution_count": 49,
     "metadata": {},
     "output_type": "execute_result"
    }
   ],
   "source": [
    "# predicting the dataset\n",
    "\n",
    "y_pred = model.predict(X_test)\n",
    "y_pred"
   ]
  },
  {
   "cell_type": "code",
   "execution_count": 50,
   "id": "44934543",
   "metadata": {
    "execution": {
     "iopub.execute_input": "2023-02-13T13:13:46.641807Z",
     "iopub.status.busy": "2023-02-13T13:13:46.640971Z",
     "iopub.status.idle": "2023-02-13T13:13:46.671918Z",
     "shell.execute_reply": "2023-02-13T13:13:46.670658Z"
    },
    "papermill": {
     "duration": 0.066261,
     "end_time": "2023-02-13T13:13:46.674368",
     "exception": false,
     "start_time": "2023-02-13T13:13:46.608107",
     "status": "completed"
    },
    "tags": []
   },
   "outputs": [
    {
     "data": {
      "text/html": [
       "<div>\n",
       "<style scoped>\n",
       "    .dataframe tbody tr th:only-of-type {\n",
       "        vertical-align: middle;\n",
       "    }\n",
       "\n",
       "    .dataframe tbody tr th {\n",
       "        vertical-align: top;\n",
       "    }\n",
       "\n",
       "    .dataframe thead tr th {\n",
       "        text-align: left;\n",
       "    }\n",
       "</style>\n",
       "<table border=\"1\" class=\"dataframe\">\n",
       "  <thead>\n",
       "    <tr>\n",
       "      <th></th>\n",
       "      <th>College</th>\n",
       "      <th>Branch</th>\n",
       "      <th>Degree</th>\n",
       "    </tr>\n",
       "  </thead>\n",
       "  <tbody>\n",
       "    <tr>\n",
       "      <th>0</th>\n",
       "      <td>IIT-Bombay</td>\n",
       "      <td>Chemical Engineering</td>\n",
       "      <td>B.Tech</td>\n",
       "    </tr>\n",
       "    <tr>\n",
       "      <th>1</th>\n",
       "      <td>NIT-Warangal</td>\n",
       "      <td>Computer Science and Engineering</td>\n",
       "      <td>B.Tech</td>\n",
       "    </tr>\n",
       "  </tbody>\n",
       "</table>\n",
       "</div>"
      ],
      "text/plain": [
       "        College                            Branch  Degree\n",
       "0    IIT-Bombay              Chemical Engineering  B.Tech\n",
       "1  NIT-Warangal  Computer Science and Engineering  B.Tech"
      ]
     },
     "execution_count": 50,
     "metadata": {},
     "output_type": "execute_result"
    }
   ],
   "source": [
    "# prediction\n",
    "\n",
    "Prediction = pd.DataFrame(model.predict([[0, 6, 0, 0, 0, 838, 1841], [1, 6, 0, 0, 0, 1000, 1841]]), columns = [['College', 'Branch', 'Degree']])\n",
    "Prediction"
   ]
  },
  {
   "cell_type": "markdown",
   "id": "46eabeb1",
   "metadata": {
    "papermill": {
     "duration": 0.030765,
     "end_time": "2023-02-13T13:13:46.735816",
     "exception": false,
     "start_time": "2023-02-13T13:13:46.705051",
     "status": "completed"
    },
    "tags": []
   },
   "source": [
    "***"
   ]
  },
  {
   "cell_type": "markdown",
   "id": "f44a1fa2",
   "metadata": {
    "papermill": {
     "duration": 0.029759,
     "end_time": "2023-02-13T13:13:46.795722",
     "exception": false,
     "start_time": "2023-02-13T13:13:46.765963",
     "status": "completed"
    },
    "tags": []
   },
   "source": [
    "# **<span style=\"color:#ff3385;\">⚔ Evaluation of the model</span>**\n",
    "\n",
    "Here we evaluate the model and find its error and accuracy rate based on the given feature and target data. We also find out that how the model works when we give it a specific type of data for the prediction."
   ]
  },
  {
   "cell_type": "code",
   "execution_count": 51,
   "id": "8b1589cd",
   "metadata": {
    "execution": {
     "iopub.execute_input": "2023-02-13T13:13:46.858530Z",
     "iopub.status.busy": "2023-02-13T13:13:46.858057Z",
     "iopub.status.idle": "2023-02-13T13:13:46.884294Z",
     "shell.execute_reply": "2023-02-13T13:13:46.883208Z"
    },
    "papermill": {
     "duration": 0.060451,
     "end_time": "2023-02-13T13:13:46.886699",
     "exception": false,
     "start_time": "2023-02-13T13:13:46.826248",
     "status": "completed"
    },
    "tags": []
   },
   "outputs": [
    {
     "data": {
      "text/plain": [
       "array([ 4,  5, 15, 14, 16, 20,  9, 11, 10,  0, 19,  1,  3, 17,  7, 21, 13,\n",
       "       22,  2,  6,  8, 12, 18, 53, 51, 52, 50, 42, 25, 34, 33, 27, 24, 28,\n",
       "       23, 29, 30, 31, 32, 39, 36, 43, 41, 44, 45, 47, 26, 35, 37, 38, 40,\n",
       "       46, 48, 49])"
      ]
     },
     "execution_count": 51,
     "metadata": {},
     "output_type": "execute_result"
    }
   ],
   "source": [
    "# Labeling the Institute values\n",
    "\n",
    "Pred_College['institute_short']= le.fit_transform(Pred_College['institute_short'])\n",
    "Pred_College['institute_short'].unique()"
   ]
  },
  {
   "cell_type": "code",
   "execution_count": 52,
   "id": "6f4c4d5d",
   "metadata": {
    "execution": {
     "iopub.execute_input": "2023-02-13T13:13:46.950164Z",
     "iopub.status.busy": "2023-02-13T13:13:46.949084Z",
     "iopub.status.idle": "2023-02-13T13:13:46.975765Z",
     "shell.execute_reply": "2023-02-13T13:13:46.974826Z"
    },
    "papermill": {
     "duration": 0.060951,
     "end_time": "2023-02-13T13:13:46.977957",
     "exception": false,
     "start_time": "2023-02-13T13:13:46.917006",
     "status": "completed"
    },
    "tags": []
   },
   "outputs": [
    {
     "data": {
      "text/plain": [
       "array([  0,  28,  31,  32,  42,  47,  51,  52,  64,  66,  67,  98, 101,\n",
       "       107, 108, 109,  14,  24,  48,  95, 126, 129,   1,   2,   4,   7,\n",
       "        37,  46,  54,  58,  59,  72,  79,  80,  83,  86, 114,  87, 104,\n",
       "       110, 116, 118, 122, 127,  20,  45,  90,  97,  18,  19,  65, 117,\n",
       "         6,  13,  57,  74,  75, 124,  29,  61,  68,  91,  15,  17,  26,\n",
       "        36,  53,  56,  76,  92, 105, 121,   5,  62,  70, 112, 115, 119,\n",
       "        33,  34,  99, 100, 120,  35,  49, 103, 111,  10,  71, 102, 106,\n",
       "         3,  60,  81,  88,   8,  16,  44,  11,  55,  50,  69,  89,  21,\n",
       "         9,  38, 113,  22,  43,  63, 128,  30,  94,  25,  39,  84, 125,\n",
       "        41,  93,  82,  78, 123,  23,  12,  77,  73,  27,  85,  96,  40])"
      ]
     },
     "execution_count": 52,
     "metadata": {},
     "output_type": "execute_result"
    }
   ],
   "source": [
    "# Labeling the Program Name values\n",
    "\n",
    "Pred_College['program_name']= le.fit_transform(Pred_College['program_name'])\n",
    "Pred_College['program_name'].unique()"
   ]
  },
  {
   "cell_type": "code",
   "execution_count": 53,
   "id": "e7cbf99d",
   "metadata": {
    "execution": {
     "iopub.execute_input": "2023-02-13T13:13:47.043535Z",
     "iopub.status.busy": "2023-02-13T13:13:47.042844Z",
     "iopub.status.idle": "2023-02-13T13:13:47.066842Z",
     "shell.execute_reply": "2023-02-13T13:13:47.065760Z"
    },
    "papermill": {
     "duration": 0.058952,
     "end_time": "2023-02-13T13:13:47.069096",
     "exception": false,
     "start_time": "2023-02-13T13:13:47.010144",
     "status": "completed"
    },
    "tags": []
   },
   "outputs": [
    {
     "data": {
      "text/plain": [
       "array([ 4,  7,  5, 11,  0, 10,  1,  2,  6,  3,  9,  8])"
      ]
     },
     "execution_count": 53,
     "metadata": {},
     "output_type": "execute_result"
    }
   ],
   "source": [
    "# Labeling the Degree values\n",
    "\n",
    "Pred_College['degree_short']= le.fit_transform(Pred_College['degree_short'])\n",
    "Pred_College['degree_short'].unique()"
   ]
  },
  {
   "cell_type": "markdown",
   "id": "cbd2f213",
   "metadata": {
    "papermill": {
     "duration": 0.030371,
     "end_time": "2023-02-13T13:13:47.130423",
     "exception": false,
     "start_time": "2023-02-13T13:13:47.100052",
     "status": "completed"
    },
    "tags": []
   },
   "source": [
    "**<span style=\"color:#006600;\">Re-scheduling the target and feature value to obtain the accuracy rate with the numerical type data .</span>**"
   ]
  },
  {
   "cell_type": "code",
   "execution_count": 54,
   "id": "76e17ea8",
   "metadata": {
    "execution": {
     "iopub.execute_input": "2023-02-13T13:13:47.194735Z",
     "iopub.status.busy": "2023-02-13T13:13:47.193625Z",
     "iopub.status.idle": "2023-02-13T13:13:47.203931Z",
     "shell.execute_reply": "2023-02-13T13:13:47.202750Z"
    },
    "papermill": {
     "duration": 0.044544,
     "end_time": "2023-02-13T13:13:47.206215",
     "exception": false,
     "start_time": "2023-02-13T13:13:47.161671",
     "status": "completed"
    },
    "tags": []
   },
   "outputs": [],
   "source": [
    "# Target data\n",
    "\n",
    "y = Pred_College[['institute_short', 'program_name', 'degree_short']]"
   ]
  },
  {
   "cell_type": "code",
   "execution_count": 55,
   "id": "488f6433",
   "metadata": {
    "execution": {
     "iopub.execute_input": "2023-02-13T13:13:47.269926Z",
     "iopub.status.busy": "2023-02-13T13:13:47.269278Z",
     "iopub.status.idle": "2023-02-13T13:13:47.275521Z",
     "shell.execute_reply": "2023-02-13T13:13:47.274729Z"
    },
    "papermill": {
     "duration": 0.040576,
     "end_time": "2023-02-13T13:13:47.277498",
     "exception": false,
     "start_time": "2023-02-13T13:13:47.236922",
     "status": "completed"
    },
    "tags": []
   },
   "outputs": [],
   "source": [
    "# Featured data\n",
    "\n",
    "X = Pred_College[['institute_type', 'round_no', 'quota', 'pool',\n",
    "       'category', 'opening_rank', 'closing_rank']]"
   ]
  },
  {
   "cell_type": "code",
   "execution_count": 56,
   "id": "d2c36a42",
   "metadata": {
    "execution": {
     "iopub.execute_input": "2023-02-13T13:13:47.340764Z",
     "iopub.status.busy": "2023-02-13T13:13:47.340053Z",
     "iopub.status.idle": "2023-02-13T13:13:47.356181Z",
     "shell.execute_reply": "2023-02-13T13:13:47.354808Z"
    },
    "papermill": {
     "duration": 0.050671,
     "end_time": "2023-02-13T13:13:47.358889",
     "exception": false,
     "start_time": "2023-02-13T13:13:47.308218",
     "status": "completed"
    },
    "tags": []
   },
   "outputs": [],
   "source": [
    "# spilitting the training and testing data\n",
    "\n",
    "X_train, X_test, y_train, y_test = train_test_split(X, y, train_size = 0.8)"
   ]
  },
  {
   "cell_type": "code",
   "execution_count": 57,
   "id": "90e6da73",
   "metadata": {
    "execution": {
     "iopub.execute_input": "2023-02-13T13:13:47.421799Z",
     "iopub.status.busy": "2023-02-13T13:13:47.421378Z",
     "iopub.status.idle": "2023-02-13T13:13:47.426141Z",
     "shell.execute_reply": "2023-02-13T13:13:47.425079Z"
    },
    "papermill": {
     "duration": 0.038834,
     "end_time": "2023-02-13T13:13:47.428323",
     "exception": false,
     "start_time": "2023-02-13T13:13:47.389489",
     "status": "completed"
    },
    "tags": []
   },
   "outputs": [],
   "source": [
    "# Regenerating the model once again\n",
    "\n",
    "model = RandomForestClassifier()"
   ]
  },
  {
   "cell_type": "code",
   "execution_count": 58,
   "id": "b93a08a2",
   "metadata": {
    "execution": {
     "iopub.execute_input": "2023-02-13T13:13:47.492145Z",
     "iopub.status.busy": "2023-02-13T13:13:47.491388Z",
     "iopub.status.idle": "2023-02-13T13:14:20.875930Z",
     "shell.execute_reply": "2023-02-13T13:14:20.874223Z"
    },
    "papermill": {
     "duration": 33.450399,
     "end_time": "2023-02-13T13:14:20.909592",
     "exception": false,
     "start_time": "2023-02-13T13:13:47.459193",
     "status": "completed"
    },
    "tags": []
   },
   "outputs": [
    {
     "data": {
      "text/plain": [
       "RandomForestClassifier()"
      ]
     },
     "execution_count": 58,
     "metadata": {},
     "output_type": "execute_result"
    }
   ],
   "source": [
    "model.fit(X_train, y_train)"
   ]
  },
  {
   "cell_type": "code",
   "execution_count": 59,
   "id": "75fcfb49",
   "metadata": {
    "execution": {
     "iopub.execute_input": "2023-02-13T13:14:20.974268Z",
     "iopub.status.busy": "2023-02-13T13:14:20.973810Z",
     "iopub.status.idle": "2023-02-13T13:14:27.009597Z",
     "shell.execute_reply": "2023-02-13T13:14:27.008244Z"
    },
    "papermill": {
     "duration": 6.071476,
     "end_time": "2023-02-13T13:14:27.011943",
     "exception": false,
     "start_time": "2023-02-13T13:14:20.940467",
     "status": "completed"
    },
    "tags": []
   },
   "outputs": [
    {
     "data": {
      "text/plain": [
       "array([[33, 32,  4],\n",
       "       [32, 42,  4],\n",
       "       [ 9, 66,  4],\n",
       "       ...,\n",
       "       [23, 98,  4],\n",
       "       [ 5, 69,  4],\n",
       "       [37, 47,  4]])"
      ]
     },
     "execution_count": 59,
     "metadata": {},
     "output_type": "execute_result"
    }
   ],
   "source": [
    "# Predicting the model again in numerical terms\n",
    "\n",
    "y_pred = model.predict(X_test)\n",
    "y_pred"
   ]
  },
  {
   "cell_type": "code",
   "execution_count": 60,
   "id": "1b68a43d",
   "metadata": {
    "execution": {
     "iopub.execute_input": "2023-02-13T13:14:27.076227Z",
     "iopub.status.busy": "2023-02-13T13:14:27.075807Z",
     "iopub.status.idle": "2023-02-13T13:14:27.085878Z",
     "shell.execute_reply": "2023-02-13T13:14:27.084367Z"
    },
    "papermill": {
     "duration": 0.04493,
     "end_time": "2023-02-13T13:14:27.088505",
     "exception": false,
     "start_time": "2023-02-13T13:14:27.043575",
     "status": "completed"
    },
    "tags": []
   },
   "outputs": [
    {
     "name": "stdout",
     "output_type": "stream",
     "text": [
      "mean_absolute_error :  4.0321993021346465\n"
     ]
    }
   ],
   "source": [
    "# Checking the Mean Absolute error\n",
    "\n",
    "from sklearn.metrics import mean_absolute_error\n",
    "print(\"mean_absolute_error : \", mean_absolute_error(y_pred, y_test))"
   ]
  },
  {
   "cell_type": "code",
   "execution_count": 61,
   "id": "1a95e609",
   "metadata": {
    "execution": {
     "iopub.execute_input": "2023-02-13T13:14:27.153291Z",
     "iopub.status.busy": "2023-02-13T13:14:27.152229Z",
     "iopub.status.idle": "2023-02-13T13:14:27.206951Z",
     "shell.execute_reply": "2023-02-13T13:14:27.204636Z"
    },
    "papermill": {
     "duration": 0.089816,
     "end_time": "2023-02-13T13:14:27.209440",
     "exception": false,
     "start_time": "2023-02-13T13:14:27.119624",
     "status": "completed"
    },
    "tags": []
   },
   "outputs": [
    {
     "name": "stdout",
     "output_type": "stream",
     "text": [
      "              precision    recall  f1-score   support\n",
      "\n",
      "           0       0.69      0.68      0.68       466\n",
      "           1       0.63      0.65      0.64       305\n",
      "           2       0.69      0.81      0.75        69\n",
      "           3       0.67      0.67      0.67       245\n",
      "           4       0.80      0.79      0.80       578\n",
      "           5       0.80      0.81      0.81       648\n",
      "           6       0.74      0.64      0.69        72\n",
      "           7       0.66      0.67      0.66       125\n",
      "           8       0.62      0.71      0.66        51\n",
      "           9       0.64      0.65      0.65       229\n",
      "          10       0.70      0.71      0.71       219\n",
      "          11       0.68      0.73      0.70        99\n",
      "          12       0.62      0.69      0.65        96\n",
      "          13       0.83      0.72      0.77       161\n",
      "          14       0.76      0.80      0.78       448\n",
      "          15       0.79      0.76      0.77      1209\n",
      "          16       0.75      0.73      0.74       471\n",
      "          17       0.69      0.66      0.67       141\n",
      "          18       0.49      0.55      0.52        58\n",
      "          19       0.72      0.76      0.74       133\n",
      "          20       0.77      0.77      0.77       537\n",
      "          21       0.70      0.68      0.69       140\n",
      "          22       0.59      0.71      0.64        92\n",
      "          23       0.83      0.81      0.82       330\n",
      "          24       0.73      0.78      0.76       286\n",
      "          25       0.08      0.06      0.07        16\n",
      "          26       0.82      0.88      0.85       122\n",
      "          27       0.80      0.75      0.78       366\n",
      "          28       0.77      0.78      0.78       374\n",
      "          29       0.85      0.78      0.81        94\n",
      "          30       0.82      0.82      0.82       355\n",
      "          31       0.82      0.86      0.84       145\n",
      "          32       0.80      0.80      0.80       413\n",
      "          33       0.77      0.73      0.75       295\n",
      "          34       0.76      0.81      0.78       355\n",
      "          35       0.79      0.80      0.79       255\n",
      "          36       0.80      0.76      0.78       357\n",
      "          37       0.74      0.76      0.75       225\n",
      "          38       0.86      0.83      0.85       127\n",
      "          39       0.80      0.79      0.79       108\n",
      "          40       0.88      0.83      0.85        93\n",
      "          41       0.73      0.81      0.77        68\n",
      "          42       0.04      0.06      0.05        17\n",
      "          43       0.74      0.80      0.77       242\n",
      "          44       0.80      0.84      0.82       123\n",
      "          45       0.75      0.75      0.75       378\n",
      "          46       0.84      0.74      0.79       628\n",
      "          47       0.75      0.89      0.81        88\n",
      "          48       0.80      0.80      0.80       220\n",
      "          49       0.78      0.81      0.80       179\n",
      "          50       0.00      0.00      0.00        17\n",
      "          51       0.07      0.12      0.09        40\n",
      "          52       0.00      0.00      0.00        20\n",
      "          53       0.30      0.27      0.28        64\n",
      "\n",
      "    accuracy                           0.75     12992\n",
      "   macro avg       0.67      0.68      0.68     12992\n",
      "weighted avg       0.76      0.75      0.75     12992\n",
      "\n"
     ]
    }
   ],
   "source": [
    "# Accuracy for Institute short\n",
    "\n",
    "from sklearn.metrics import classification_report \n",
    "y_pred1 = y_pred[:,0]\n",
    "y_test1 = y_test.loc[:,\"institute_short\"]\n",
    "print(classification_report(y_pred1, y_test1))"
   ]
  },
  {
   "cell_type": "code",
   "execution_count": 62,
   "id": "b0fa1a0d",
   "metadata": {
    "execution": {
     "iopub.execute_input": "2023-02-13T13:14:27.276033Z",
     "iopub.status.busy": "2023-02-13T13:14:27.275179Z",
     "iopub.status.idle": "2023-02-13T13:14:27.285752Z",
     "shell.execute_reply": "2023-02-13T13:14:27.284518Z"
    },
    "papermill": {
     "duration": 0.047093,
     "end_time": "2023-02-13T13:14:27.288074",
     "exception": false,
     "start_time": "2023-02-13T13:14:27.240981",
     "status": "completed"
    },
    "tags": []
   },
   "outputs": [
    {
     "data": {
      "text/plain": [
       "0.7534636699507389"
      ]
     },
     "execution_count": 62,
     "metadata": {},
     "output_type": "execute_result"
    }
   ],
   "source": [
    "from sklearn.metrics import accuracy_score\n",
    "Accuracy1 = accuracy_score(y_pred1, y_test1)\n",
    "Accuracy1"
   ]
  },
  {
   "cell_type": "code",
   "execution_count": 63,
   "id": "4890e820",
   "metadata": {
    "execution": {
     "iopub.execute_input": "2023-02-13T13:14:27.355536Z",
     "iopub.status.busy": "2023-02-13T13:14:27.354805Z",
     "iopub.status.idle": "2023-02-13T13:14:27.409571Z",
     "shell.execute_reply": "2023-02-13T13:14:27.408391Z"
    },
    "papermill": {
     "duration": 0.092721,
     "end_time": "2023-02-13T13:14:27.413243",
     "exception": false,
     "start_time": "2023-02-13T13:14:27.320522",
     "status": "completed"
    },
    "tags": []
   },
   "outputs": [
    {
     "name": "stdout",
     "output_type": "stream",
     "text": [
      "              precision    recall  f1-score   support\n",
      "\n",
      "           0       0.77      0.80      0.79       198\n",
      "           1       0.88      0.78      0.82        27\n",
      "           2       0.68      0.76      0.72        25\n",
      "           3       0.00      0.00      0.00         3\n",
      "           4       0.75      0.67      0.71        54\n",
      "           5       0.56      0.82      0.67        11\n",
      "           6       0.00      0.00      0.00         8\n",
      "           7       0.83      0.86      0.84       255\n",
      "           8       0.94      0.97      0.96        34\n",
      "           9       0.97      0.84      0.90        37\n",
      "          10       0.83      0.71      0.77        14\n",
      "          11       0.73      0.84      0.78        32\n",
      "          12       0.68      0.63      0.65        43\n",
      "          13       0.67      0.66      0.67       197\n",
      "          14       0.00      0.00      0.00         5\n",
      "          15       0.67      0.77      0.71        13\n",
      "          16       0.00      0.00      0.00         0\n",
      "          17       0.62      0.88      0.73        17\n",
      "          18       0.79      0.79      0.79        24\n",
      "          19       0.73      0.67      0.70        24\n",
      "          20       0.79      0.73      0.76        30\n",
      "          21       0.78      0.88      0.82         8\n",
      "          22       0.98      0.95      0.96        42\n",
      "          23       0.86      0.67      0.75         9\n",
      "          24       0.73      0.74      0.73       117\n",
      "          25       1.00      1.00      1.00        10\n",
      "          26       0.77      0.61      0.68        49\n",
      "          27       0.85      0.89      0.87        19\n",
      "          28       0.73      0.77      0.75       879\n",
      "          29       0.55      0.46      0.50        24\n",
      "          30       1.00      1.00      1.00        19\n",
      "          31       0.75      0.72      0.74       158\n",
      "          32       0.76      0.73      0.74      1333\n",
      "          33       0.64      0.64      0.64        11\n",
      "          34       0.50      0.38      0.43        13\n",
      "          35       0.67      0.83      0.74        12\n",
      "          36       0.00      0.00      0.00         0\n",
      "          37       0.75      0.70      0.72        30\n",
      "          38       1.00      0.94      0.97        17\n",
      "          39       1.00      1.00      1.00        13\n",
      "          40       1.00      1.00      1.00         7\n",
      "          41       0.68      0.79      0.73        29\n",
      "          42       0.81      0.76      0.79      1791\n",
      "          43       1.00      0.95      0.98        21\n",
      "          44       0.80      0.57      0.67        21\n",
      "          45       0.78      0.82      0.79        38\n",
      "          46       0.79      0.88      0.83       108\n",
      "          47       0.76      0.77      0.76      1149\n",
      "          48       0.85      0.97      0.90        29\n",
      "          49       0.50      1.00      0.67         5\n",
      "          50       0.00      0.00      0.00         0\n",
      "          51       0.00      0.00      0.00         0\n",
      "          52       0.00      0.00      0.00         2\n",
      "          53       0.47      0.53      0.50        17\n",
      "          54       0.72      0.81      0.76        26\n",
      "          55       0.76      0.77      0.77       242\n",
      "          56       0.68      0.75      0.71        20\n",
      "          57       0.76      0.77      0.77       947\n",
      "          58       0.78      0.91      0.84        43\n",
      "          59       0.75      0.75      0.75        28\n",
      "          60       0.00      0.00      0.00         1\n",
      "          61       0.54      0.56      0.55        25\n",
      "          62       0.75      0.73      0.74       106\n",
      "          63       1.00      0.81      0.90        37\n",
      "          64       0.76      0.72      0.74        39\n",
      "          65       0.76      0.74      0.75        42\n",
      "          66       0.74      0.76      0.75       310\n",
      "          67       0.00      0.00      0.00         0\n",
      "          68       0.44      0.57      0.50        14\n",
      "          69       0.90      0.88      0.89        43\n",
      "          70       0.65      0.65      0.65        23\n",
      "          71       0.83      0.95      0.88        20\n",
      "          72       0.85      0.72      0.78        39\n",
      "          73       0.83      0.74      0.78        39\n",
      "          74       0.82      0.78      0.80        23\n",
      "          75       0.81      0.74      0.77        34\n",
      "          76       0.69      0.72      0.71        25\n",
      "          77       0.85      0.81      0.83        27\n",
      "          78       0.79      0.79      0.79        28\n",
      "          79       0.91      0.91      0.91        32\n",
      "          80       0.75      0.68      0.71        22\n",
      "          81       0.00      0.00      0.00         0\n",
      "          82       0.68      0.76      0.72       144\n",
      "          83       0.74      0.89      0.81        28\n",
      "          84       0.67      0.76      0.71        41\n",
      "          85       0.83      0.70      0.76        27\n",
      "          86       0.81      0.78      0.79        27\n",
      "          87       0.83      0.79      0.81        24\n",
      "          88       0.00      0.00      0.00         2\n",
      "          89       0.98      0.89      0.93        62\n",
      "          90       0.71      0.71      0.71       113\n",
      "          91       0.70      0.70      0.70        47\n",
      "          92       0.70      0.67      0.68        24\n",
      "          93       0.59      0.81      0.68        16\n",
      "          94       0.97      0.89      0.93        35\n",
      "          95       0.77      0.77      0.77       246\n",
      "          96       1.00      1.00      1.00        20\n",
      "          97       0.76      0.83      0.79        30\n",
      "          98       0.73      0.72      0.72      1377\n",
      "          99       0.52      0.69      0.59        16\n",
      "         100       0.79      0.88      0.83        17\n",
      "         101       0.89      0.89      0.89        28\n",
      "         102       0.00      0.00      0.00         2\n",
      "         103       0.53      0.75      0.62        12\n",
      "         104       0.73      0.81      0.77        27\n",
      "         105       0.70      0.74      0.72        31\n",
      "         106       0.96      0.77      0.85        30\n",
      "         107       0.72      0.84      0.78        50\n",
      "         108       0.00      0.00      0.00         3\n",
      "         109       0.00      0.00      0.00         3\n",
      "         110       0.75      0.73      0.74       413\n",
      "         111       0.00      0.00      0.00         2\n",
      "         112       0.00      0.00      0.00         2\n",
      "         113       0.78      0.93      0.85        15\n",
      "         114       0.69      0.74      0.72       191\n",
      "         115       0.59      0.62      0.61        16\n",
      "         116       0.70      0.74      0.72        19\n",
      "         117       0.64      0.70      0.67        30\n",
      "         118       0.68      0.70      0.69        56\n",
      "         119       0.63      0.71      0.67        17\n",
      "         120       0.78      0.58      0.67        36\n",
      "         121       0.00      0.00      0.00         1\n",
      "         122       0.74      0.79      0.76       142\n",
      "         123       0.76      0.86      0.81        22\n",
      "         124       0.00      0.00      0.00         4\n",
      "         125       0.70      0.86      0.77        56\n",
      "         126       0.74      0.82      0.78       131\n",
      "         127       0.00      0.00      0.00         2\n",
      "         128       1.00      1.00      1.00        28\n",
      "         129       0.79      0.80      0.80        61\n",
      "\n",
      "    accuracy                           0.76     12992\n",
      "   macro avg       0.65      0.66      0.65     12992\n",
      "weighted avg       0.76      0.76      0.76     12992\n",
      "\n"
     ]
    }
   ],
   "source": [
    "# Accuracy for Program Name\n",
    "\n",
    "from sklearn.metrics import classification_report \n",
    "y_pred2 = y_pred[:,1]\n",
    "y_test2 = y_test.loc[:,\"program_name\"]\n",
    "print(classification_report(y_pred2, y_test2))"
   ]
  },
  {
   "cell_type": "code",
   "execution_count": 64,
   "id": "31d05076",
   "metadata": {
    "execution": {
     "iopub.execute_input": "2023-02-13T13:14:27.482009Z",
     "iopub.status.busy": "2023-02-13T13:14:27.481546Z",
     "iopub.status.idle": "2023-02-13T13:14:27.490810Z",
     "shell.execute_reply": "2023-02-13T13:14:27.489728Z"
    },
    "papermill": {
     "duration": 0.046789,
     "end_time": "2023-02-13T13:14:27.493001",
     "exception": false,
     "start_time": "2023-02-13T13:14:27.446212",
     "status": "completed"
    },
    "tags": []
   },
   "outputs": [
    {
     "data": {
      "text/plain": [
       "0.7568503694581281"
      ]
     },
     "execution_count": 64,
     "metadata": {},
     "output_type": "execute_result"
    }
   ],
   "source": [
    "from sklearn.metrics import accuracy_score\n",
    "Accuracy2 = accuracy_score(y_pred2, y_test2)\n",
    "Accuracy2"
   ]
  },
  {
   "cell_type": "code",
   "execution_count": 65,
   "id": "c22bebc5",
   "metadata": {
    "execution": {
     "iopub.execute_input": "2023-02-13T13:14:27.560574Z",
     "iopub.status.busy": "2023-02-13T13:14:27.560082Z",
     "iopub.status.idle": "2023-02-13T13:14:27.591570Z",
     "shell.execute_reply": "2023-02-13T13:14:27.589834Z"
    },
    "papermill": {
     "duration": 0.069185,
     "end_time": "2023-02-13T13:14:27.595116",
     "exception": false,
     "start_time": "2023-02-13T13:14:27.525931",
     "status": "completed"
    },
    "tags": []
   },
   "outputs": [
    {
     "name": "stdout",
     "output_type": "stream",
     "text": [
      "              precision    recall  f1-score   support\n",
      "\n",
      "           0       0.79      0.94      0.86       222\n",
      "           3       0.76      0.95      0.84        20\n",
      "           4       0.98      0.95      0.97     10778\n",
      "           5       0.74      0.86      0.79      1057\n",
      "           6       1.00      1.00      1.00       129\n",
      "           7       0.87      0.96      0.92       367\n",
      "           8       0.79      0.94      0.86        35\n",
      "           9       0.85      0.93      0.89       158\n",
      "          10       0.71      0.86      0.78        95\n",
      "          11       0.48      0.66      0.56       131\n",
      "\n",
      "    accuracy                           0.94     12992\n",
      "   macro avg       0.80      0.91      0.85     12992\n",
      "weighted avg       0.95      0.94      0.94     12992\n",
      "\n"
     ]
    }
   ],
   "source": [
    "# Accuracy for Degree \n",
    "\n",
    "from sklearn.metrics import classification_report \n",
    "y_pred3 = y_pred[:,2]\n",
    "y_test3 = y_test.loc[:,\"degree_short\"]\n",
    "print(classification_report(y_pred3, y_test3))"
   ]
  },
  {
   "cell_type": "code",
   "execution_count": 66,
   "id": "e561803a",
   "metadata": {
    "execution": {
     "iopub.execute_input": "2023-02-13T13:14:27.661375Z",
     "iopub.status.busy": "2023-02-13T13:14:27.660993Z",
     "iopub.status.idle": "2023-02-13T13:14:27.670657Z",
     "shell.execute_reply": "2023-02-13T13:14:27.669396Z"
    },
    "papermill": {
     "duration": 0.045514,
     "end_time": "2023-02-13T13:14:27.673071",
     "exception": false,
     "start_time": "2023-02-13T13:14:27.627557",
     "status": "completed"
    },
    "tags": []
   },
   "outputs": [
    {
     "data": {
      "text/plain": [
       "0.9399630541871922"
      ]
     },
     "execution_count": 66,
     "metadata": {},
     "output_type": "execute_result"
    }
   ],
   "source": [
    "from sklearn.metrics import accuracy_score\n",
    "Accuracy3 = accuracy_score(y_pred3, y_test3)\n",
    "Accuracy3"
   ]
  },
  {
   "cell_type": "code",
   "execution_count": 67,
   "id": "b480134a",
   "metadata": {
    "execution": {
     "iopub.execute_input": "2023-02-13T13:14:27.739053Z",
     "iopub.status.busy": "2023-02-13T13:14:27.738629Z",
     "iopub.status.idle": "2023-02-13T13:14:27.744897Z",
     "shell.execute_reply": "2023-02-13T13:14:27.744098Z"
    },
    "papermill": {
     "duration": 0.042158,
     "end_time": "2023-02-13T13:14:27.747164",
     "exception": false,
     "start_time": "2023-02-13T13:14:27.705006",
     "status": "completed"
    },
    "tags": []
   },
   "outputs": [
    {
     "data": {
      "text/plain": [
       "0.8167590311986864"
      ]
     },
     "execution_count": 67,
     "metadata": {},
     "output_type": "execute_result"
    }
   ],
   "source": [
    "# total accuracy of the model\n",
    "\n",
    "Mean_Accuracy = (Accuracy1 + Accuracy2 + Accuracy3) / 3\n",
    "Mean_Accuracy"
   ]
  },
  {
   "cell_type": "markdown",
   "id": "88c451ea",
   "metadata": {
    "papermill": {
     "duration": 0.032499,
     "end_time": "2023-02-13T13:14:27.814038",
     "exception": false,
     "start_time": "2023-02-13T13:14:27.781539",
     "status": "completed"
    },
    "tags": []
   },
   "source": [
    "**<span style=\"color:#006600;\">Here we evaluate our model and find that it is really good and a realistic model. Firstly, we extract the individual Accuracy of the target data and then conclude the mean accuracy of the target data. </span>**\n",
    "\n",
    "**<span style=\"color:#fffff;\">Accuracy of Institute Name - 75.3%</span>**\n",
    "\n",
    "**<span style=\"color:#fffff;\">Accuracy of Program Name - 75.6%</span>**\n",
    "\n",
    "**<span style=\"color:#fffff;\">Accuracy of degree - 93.8%</span>**\n",
    "\n",
    "**<span style=\"color:#006600;\">After calculating the individual accuracy, we will find out the total or mean accuracy of the model.</span>**\n",
    "\n",
    "**<span style=\"color:#fffff;\">Accuracy of the Model - 81.6%</span>**\n",
    "\n",
    "***"
   ]
  },
  {
   "cell_type": "markdown",
   "id": "abb2ff8e",
   "metadata": {
    "papermill": {
     "duration": 0.032671,
     "end_time": "2023-02-13T13:14:27.879395",
     "exception": false,
     "start_time": "2023-02-13T13:14:27.846724",
     "status": "completed"
    },
    "tags": []
   },
   "source": [
    "# **<span style=\"color:#ff3385;\">🤘 Conclusion</span>**\n",
    "It takes a great deal of effort to make it to elite engineering schools of India. It is quite evident from the above analysis that the acceptance rate of highly reputed IIT and NIT is quite low. Also, the top rankers get into these schools along those who have attained certain haigh ranks or a quota via some source such as state.\n",
    "***"
   ]
  }
 ],
 "metadata": {
  "kernelspec": {
   "display_name": "Python 3",
   "language": "python",
   "name": "python3"
  },
  "language_info": {
   "codemirror_mode": {
    "name": "ipython",
    "version": 3
   },
   "file_extension": ".py",
   "mimetype": "text/x-python",
   "name": "python",
   "nbconvert_exporter": "python",
   "pygments_lexer": "ipython3",
   "version": "3.7.12"
  },
  "papermill": {
   "default_parameters": {},
   "duration": 102.890361,
   "end_time": "2023-02-13T13:14:30.346069",
   "environment_variables": {},
   "exception": null,
   "input_path": "__notebook__.ipynb",
   "output_path": "__notebook__.ipynb",
   "parameters": {},
   "start_time": "2023-02-13T13:12:47.455708",
   "version": "2.3.4"
  }
 },
 "nbformat": 4,
 "nbformat_minor": 5
}
